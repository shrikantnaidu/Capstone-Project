{
 "cells": [
  {
   "cell_type": "code",
   "execution_count": 1,
   "metadata": {},
   "outputs": [],
   "source": [
    "import numpy as np\n",
    "import pandas as pd\n",
    "import matplotlib.pyplot as plt\n",
    "import seaborn as sns\n",
    "%matplotlib inline\n",
    "import warnings\n",
    "warnings.filterwarnings('ignore')\n",
    "from sklearn.preprocessing import LabelEncoder\n",
    "from sklearn.linear_model import LogisticRegression\n",
    "import datetime\n",
    "import time\n",
    "import swifter"
   ]
  },
  {
   "cell_type": "markdown",
   "metadata": {},
   "source": [
    "# Data Loading"
   ]
  },
  {
   "cell_type": "code",
   "execution_count": 2,
   "metadata": {},
   "outputs": [],
   "source": [
    "AppLaunched=pd.read_csv('./Data/AppLaunched.csv',sep=',')\n",
    "VideoDetails=pd.read_csv('./Data/VideoDetails.csv',sep=',')\n",
    "UTMVisited=pd.read_csv('./Data/UTMVisited.csv',sep=',')\n",
    "Registration=pd.read_csv('./Data/Registration.csv',sep=',')\n",
    "AppUninstalled=pd.read_csv('./Data/AppUninstalled.csv',sep=',')\n",
    "VideoStarted=pd.read_csv('./Data/VideoStarted.csv',sep=',')"
   ]
  },
  {
   "cell_type": "markdown",
   "metadata": {},
   "source": [
    "# About the datasets:\n",
    "Every event contains the following : \n",
    "1. UserId: Every app user is assigned a unique identity which is stored in this field. \n",
    "2. Date: The date on which this event was raised \n",
    "3. Minute_Of_Day: The minute of that day on which the event was raised \n",
    "4. Second: The second of the minute on which the event was raised. Date, Minute_of_Day and Second provides the exact timestamp of the event.            \n",
    "5. Country: The country Id in which the user was present while doing the event. Note that 255 means \"Unknown\" country.             \n",
    "6. State: The state Id of that country. For example, India will have state Ids in the range [1,29]. \n",
    "7. OS: The OS of the device from which event was raised. They are coded as : \n",
    "    0. : Others, \n",
    "    1. : Android,\n",
    "    2. : iOS,\n",
    "    3. : Windows,\n",
    "    4. : Mac,\n",
    "    5. : BlackBerry,\n",
    "    6. : Linux \n",
    "8. Device: The type of device. They are coded as : \n",
    "    0. : Desktop,\n",
    "    1. : Mobile,\n",
    "    2. : Tablet,\n",
    "    3. : TV\n",
    "The events might also have some custom properties : \n",
    "1. VideoStarted and VideoDetails : \n",
    "    1. Genre : The genre of the video \n",
    "    2. ProgramType : Records the type - TVShow or Movie etc. \n",
    "    3. Category : Records the category - Video on demand(\"vod\") or not \n",
    "    4. VideoId : The video name \n",
    "2. Registered : \n",
    "    1. Status: The status of the registration \n"
   ]
  },
  {
   "cell_type": "markdown",
   "metadata": {},
   "source": [
    "# Registration"
   ]
  },
  {
   "cell_type": "code",
   "execution_count": 5,
   "metadata": {},
   "outputs": [
    {
     "data": {
      "text/html": [
       "<div>\n",
       "<style scoped>\n",
       "    .dataframe tbody tr th:only-of-type {\n",
       "        vertical-align: middle;\n",
       "    }\n",
       "\n",
       "    .dataframe tbody tr th {\n",
       "        vertical-align: top;\n",
       "    }\n",
       "\n",
       "    .dataframe thead th {\n",
       "        text-align: right;\n",
       "    }\n",
       "</style>\n",
       "<table border=\"1\" class=\"dataframe\">\n",
       "  <thead>\n",
       "    <tr style=\"text-align: right;\">\n",
       "      <th></th>\n",
       "      <th>UserId</th>\n",
       "      <th>Date</th>\n",
       "      <th>Minute_Of_Day</th>\n",
       "      <th>Second</th>\n",
       "      <th>State</th>\n",
       "      <th>Country</th>\n",
       "      <th>Device</th>\n",
       "      <th>OS</th>\n",
       "      <th>Status</th>\n",
       "    </tr>\n",
       "  </thead>\n",
       "  <tbody>\n",
       "    <tr>\n",
       "      <th>0</th>\n",
       "      <td>d168e2b924124feaad13eae44a68fce9</td>\n",
       "      <td>20170106</td>\n",
       "      <td>0</td>\n",
       "      <td>8</td>\n",
       "      <td>35</td>\n",
       "      <td>1</td>\n",
       "      <td>1</td>\n",
       "      <td>2</td>\n",
       "      <td>Complete</td>\n",
       "    </tr>\n",
       "    <tr>\n",
       "      <th>1</th>\n",
       "      <td>deed7490952a6746610ee2ee9fd219b7</td>\n",
       "      <td>20170106</td>\n",
       "      <td>0</td>\n",
       "      <td>8</td>\n",
       "      <td>7</td>\n",
       "      <td>40</td>\n",
       "      <td>1</td>\n",
       "      <td>1</td>\n",
       "      <td>Completed</td>\n",
       "    </tr>\n",
       "    <tr>\n",
       "      <th>2</th>\n",
       "      <td>13d9f55e297d7d9c219fbe9085e1006c</td>\n",
       "      <td>20170106</td>\n",
       "      <td>0</td>\n",
       "      <td>28</td>\n",
       "      <td>35</td>\n",
       "      <td>1</td>\n",
       "      <td>1</td>\n",
       "      <td>2</td>\n",
       "      <td>Complete</td>\n",
       "    </tr>\n",
       "    <tr>\n",
       "      <th>3</th>\n",
       "      <td>fccc2c0abf5afabf242a70df7b4c9e69</td>\n",
       "      <td>20170106</td>\n",
       "      <td>0</td>\n",
       "      <td>52</td>\n",
       "      <td>39</td>\n",
       "      <td>1</td>\n",
       "      <td>1</td>\n",
       "      <td>1</td>\n",
       "      <td>Completed</td>\n",
       "    </tr>\n",
       "    <tr>\n",
       "      <th>4</th>\n",
       "      <td>9ff982b29d78cefc8eb5a3ffb7fd2a5d</td>\n",
       "      <td>20170106</td>\n",
       "      <td>0</td>\n",
       "      <td>52</td>\n",
       "      <td>38</td>\n",
       "      <td>1</td>\n",
       "      <td>1</td>\n",
       "      <td>1</td>\n",
       "      <td>Not Completed</td>\n",
       "    </tr>\n",
       "  </tbody>\n",
       "</table>\n",
       "</div>"
      ],
      "text/plain": [
       "                             UserId      Date  Minute_Of_Day  Second  State  \\\n",
       "0  d168e2b924124feaad13eae44a68fce9  20170106              0       8     35   \n",
       "1  deed7490952a6746610ee2ee9fd219b7  20170106              0       8      7   \n",
       "2  13d9f55e297d7d9c219fbe9085e1006c  20170106              0      28     35   \n",
       "3  fccc2c0abf5afabf242a70df7b4c9e69  20170106              0      52     39   \n",
       "4  9ff982b29d78cefc8eb5a3ffb7fd2a5d  20170106              0      52     38   \n",
       "\n",
       "   Country  Device  OS         Status  \n",
       "0        1       1   2       Complete  \n",
       "1       40       1   1      Completed  \n",
       "2        1       1   2       Complete  \n",
       "3        1       1   1      Completed  \n",
       "4        1       1   1  Not Completed  "
      ]
     },
     "execution_count": 5,
     "metadata": {},
     "output_type": "execute_result"
    }
   ],
   "source": [
    "Registration.head()"
   ]
  },
  {
   "cell_type": "code",
   "execution_count": 6,
   "metadata": {},
   "outputs": [
    {
     "data": {
      "text/plain": [
       "(329579, 9)"
      ]
     },
     "execution_count": 6,
     "metadata": {},
     "output_type": "execute_result"
    }
   ],
   "source": [
    "Registration.shape"
   ]
  },
  {
   "cell_type": "markdown",
   "metadata": {},
   "source": [
    "# App Launched"
   ]
  },
  {
   "cell_type": "code",
   "execution_count": 3,
   "metadata": {},
   "outputs": [
    {
     "data": {
      "text/html": [
       "<div>\n",
       "<style scoped>\n",
       "    .dataframe tbody tr th:only-of-type {\n",
       "        vertical-align: middle;\n",
       "    }\n",
       "\n",
       "    .dataframe tbody tr th {\n",
       "        vertical-align: top;\n",
       "    }\n",
       "\n",
       "    .dataframe thead th {\n",
       "        text-align: right;\n",
       "    }\n",
       "</style>\n",
       "<table border=\"1\" class=\"dataframe\">\n",
       "  <thead>\n",
       "    <tr style=\"text-align: right;\">\n",
       "      <th></th>\n",
       "      <th>UserId</th>\n",
       "      <th>Date</th>\n",
       "      <th>Minute_Of_Day</th>\n",
       "      <th>Second</th>\n",
       "      <th>State</th>\n",
       "      <th>Country</th>\n",
       "      <th>Device</th>\n",
       "      <th>OS</th>\n",
       "    </tr>\n",
       "  </thead>\n",
       "  <tbody>\n",
       "    <tr>\n",
       "      <th>0</th>\n",
       "      <td>a27134c322d4f56dabc106a6847cb96b</td>\n",
       "      <td>20170106</td>\n",
       "      <td>0</td>\n",
       "      <td>4</td>\n",
       "      <td>50</td>\n",
       "      <td>1</td>\n",
       "      <td>1</td>\n",
       "      <td>2</td>\n",
       "    </tr>\n",
       "    <tr>\n",
       "      <th>1</th>\n",
       "      <td>aab39ad0874c59cc388525d511667f9d</td>\n",
       "      <td>20170106</td>\n",
       "      <td>0</td>\n",
       "      <td>8</td>\n",
       "      <td>40</td>\n",
       "      <td>1</td>\n",
       "      <td>1</td>\n",
       "      <td>2</td>\n",
       "    </tr>\n",
       "    <tr>\n",
       "      <th>2</th>\n",
       "      <td>f717dc3f757dc18cc0c3f27ed3e94ef8</td>\n",
       "      <td>20170106</td>\n",
       "      <td>0</td>\n",
       "      <td>12</td>\n",
       "      <td>35</td>\n",
       "      <td>1</td>\n",
       "      <td>1</td>\n",
       "      <td>2</td>\n",
       "    </tr>\n",
       "    <tr>\n",
       "      <th>3</th>\n",
       "      <td>04c1e14fd54a06c0d4fe98cf0cb8b04c</td>\n",
       "      <td>20170106</td>\n",
       "      <td>0</td>\n",
       "      <td>20</td>\n",
       "      <td>40</td>\n",
       "      <td>1</td>\n",
       "      <td>2</td>\n",
       "      <td>2</td>\n",
       "    </tr>\n",
       "    <tr>\n",
       "      <th>4</th>\n",
       "      <td>71f05822bb699a04b694dd30265fdf73</td>\n",
       "      <td>20170106</td>\n",
       "      <td>0</td>\n",
       "      <td>20</td>\n",
       "      <td>35</td>\n",
       "      <td>1</td>\n",
       "      <td>1</td>\n",
       "      <td>2</td>\n",
       "    </tr>\n",
       "  </tbody>\n",
       "</table>\n",
       "</div>"
      ],
      "text/plain": [
       "                             UserId      Date  Minute_Of_Day  Second  State  \\\n",
       "0  a27134c322d4f56dabc106a6847cb96b  20170106              0       4     50   \n",
       "1  aab39ad0874c59cc388525d511667f9d  20170106              0       8     40   \n",
       "2  f717dc3f757dc18cc0c3f27ed3e94ef8  20170106              0      12     35   \n",
       "3  04c1e14fd54a06c0d4fe98cf0cb8b04c  20170106              0      20     40   \n",
       "4  71f05822bb699a04b694dd30265fdf73  20170106              0      20     35   \n",
       "\n",
       "   Country  Device  OS  \n",
       "0        1       1   2  \n",
       "1        1       1   2  \n",
       "2        1       1   2  \n",
       "3        1       2   2  \n",
       "4        1       1   2  "
      ]
     },
     "execution_count": 3,
     "metadata": {},
     "output_type": "execute_result"
    }
   ],
   "source": [
    "AppLaunched.head()"
   ]
  },
  {
   "cell_type": "code",
   "execution_count": 8,
   "metadata": {},
   "outputs": [
    {
     "data": {
      "text/plain": [
       "(2716093, 8)"
      ]
     },
     "execution_count": 8,
     "metadata": {},
     "output_type": "execute_result"
    }
   ],
   "source": [
    "AppLaunched.shape"
   ]
  },
  {
   "cell_type": "markdown",
   "metadata": {},
   "source": [
    "# UTMVisited"
   ]
  },
  {
   "cell_type": "code",
   "execution_count": 7,
   "metadata": {},
   "outputs": [
    {
     "data": {
      "text/html": [
       "<div>\n",
       "<style scoped>\n",
       "    .dataframe tbody tr th:only-of-type {\n",
       "        vertical-align: middle;\n",
       "    }\n",
       "\n",
       "    .dataframe tbody tr th {\n",
       "        vertical-align: top;\n",
       "    }\n",
       "\n",
       "    .dataframe thead th {\n",
       "        text-align: right;\n",
       "    }\n",
       "</style>\n",
       "<table border=\"1\" class=\"dataframe\">\n",
       "  <thead>\n",
       "    <tr style=\"text-align: right;\">\n",
       "      <th></th>\n",
       "      <th>UserId</th>\n",
       "      <th>Date</th>\n",
       "      <th>Minute_Of_Day</th>\n",
       "      <th>Second</th>\n",
       "      <th>State</th>\n",
       "      <th>Country</th>\n",
       "      <th>Device</th>\n",
       "      <th>OS</th>\n",
       "    </tr>\n",
       "  </thead>\n",
       "  <tbody>\n",
       "    <tr>\n",
       "      <th>0</th>\n",
       "      <td>66d4abf4f3b733c27591b3f47c85eff7</td>\n",
       "      <td>20170106</td>\n",
       "      <td>0</td>\n",
       "      <td>52</td>\n",
       "      <td>37</td>\n",
       "      <td>1</td>\n",
       "      <td>1</td>\n",
       "      <td>1</td>\n",
       "    </tr>\n",
       "    <tr>\n",
       "      <th>1</th>\n",
       "      <td>1a40d7e5b34131b097fac80cf982241b</td>\n",
       "      <td>20170106</td>\n",
       "      <td>0</td>\n",
       "      <td>56</td>\n",
       "      <td>40</td>\n",
       "      <td>1</td>\n",
       "      <td>1</td>\n",
       "      <td>1</td>\n",
       "    </tr>\n",
       "    <tr>\n",
       "      <th>2</th>\n",
       "      <td>b7b3c1ce773a13b52d39429e305ea615</td>\n",
       "      <td>20170106</td>\n",
       "      <td>1</td>\n",
       "      <td>16</td>\n",
       "      <td>35</td>\n",
       "      <td>1</td>\n",
       "      <td>1</td>\n",
       "      <td>1</td>\n",
       "    </tr>\n",
       "    <tr>\n",
       "      <th>3</th>\n",
       "      <td>3f486a89433a02b96ab13b16c82e39fd</td>\n",
       "      <td>20170106</td>\n",
       "      <td>1</td>\n",
       "      <td>32</td>\n",
       "      <td>35</td>\n",
       "      <td>1</td>\n",
       "      <td>1</td>\n",
       "      <td>1</td>\n",
       "    </tr>\n",
       "    <tr>\n",
       "      <th>4</th>\n",
       "      <td>9ff982b29d78cefc8eb5a3ffb7fd2a5d</td>\n",
       "      <td>20170106</td>\n",
       "      <td>1</td>\n",
       "      <td>32</td>\n",
       "      <td>38</td>\n",
       "      <td>1</td>\n",
       "      <td>1</td>\n",
       "      <td>1</td>\n",
       "    </tr>\n",
       "  </tbody>\n",
       "</table>\n",
       "</div>"
      ],
      "text/plain": [
       "                             UserId      Date  Minute_Of_Day  Second  State  \\\n",
       "0  66d4abf4f3b733c27591b3f47c85eff7  20170106              0      52     37   \n",
       "1  1a40d7e5b34131b097fac80cf982241b  20170106              0      56     40   \n",
       "2  b7b3c1ce773a13b52d39429e305ea615  20170106              1      16     35   \n",
       "3  3f486a89433a02b96ab13b16c82e39fd  20170106              1      32     35   \n",
       "4  9ff982b29d78cefc8eb5a3ffb7fd2a5d  20170106              1      32     38   \n",
       "\n",
       "   Country  Device  OS  \n",
       "0        1       1   1  \n",
       "1        1       1   1  \n",
       "2        1       1   1  \n",
       "3        1       1   1  \n",
       "4        1       1   1  "
      ]
     },
     "execution_count": 7,
     "metadata": {},
     "output_type": "execute_result"
    }
   ],
   "source": [
    "UTMVisited.head()"
   ]
  },
  {
   "cell_type": "code",
   "execution_count": 9,
   "metadata": {},
   "outputs": [
    {
     "data": {
      "text/plain": [
       "(495850, 8)"
      ]
     },
     "execution_count": 9,
     "metadata": {},
     "output_type": "execute_result"
    }
   ],
   "source": [
    "UTMVisited.shape"
   ]
  },
  {
   "cell_type": "markdown",
   "metadata": {},
   "source": [
    "# VideoStarted"
   ]
  },
  {
   "cell_type": "code",
   "execution_count": 10,
   "metadata": {},
   "outputs": [
    {
     "data": {
      "text/html": [
       "<div>\n",
       "<style scoped>\n",
       "    .dataframe tbody tr th:only-of-type {\n",
       "        vertical-align: middle;\n",
       "    }\n",
       "\n",
       "    .dataframe tbody tr th {\n",
       "        vertical-align: top;\n",
       "    }\n",
       "\n",
       "    .dataframe thead th {\n",
       "        text-align: right;\n",
       "    }\n",
       "</style>\n",
       "<table border=\"1\" class=\"dataframe\">\n",
       "  <thead>\n",
       "    <tr style=\"text-align: right;\">\n",
       "      <th></th>\n",
       "      <th>UserId</th>\n",
       "      <th>Date</th>\n",
       "      <th>Minute_Of_Day</th>\n",
       "      <th>Second</th>\n",
       "      <th>State</th>\n",
       "      <th>Genre</th>\n",
       "      <th>Category</th>\n",
       "      <th>ProgramType</th>\n",
       "      <th>Country</th>\n",
       "      <th>Device</th>\n",
       "      <th>OS</th>\n",
       "      <th>VideoId</th>\n",
       "    </tr>\n",
       "  </thead>\n",
       "  <tbody>\n",
       "    <tr>\n",
       "      <th>0</th>\n",
       "      <td>0280dfdd112732a3ac12b12dc770b7af</td>\n",
       "      <td>20170106</td>\n",
       "      <td>0</td>\n",
       "      <td>8</td>\n",
       "      <td>35</td>\n",
       "      <td>Romance</td>\n",
       "      <td>vod</td>\n",
       "      <td>Movies</td>\n",
       "      <td>1</td>\n",
       "      <td>1</td>\n",
       "      <td>2</td>\n",
       "      <td>36a27b379622f342ec87f9aafadb8f94</td>\n",
       "    </tr>\n",
       "    <tr>\n",
       "      <th>1</th>\n",
       "      <td>435d41ae019cb8db785483793859c9a8</td>\n",
       "      <td>20170106</td>\n",
       "      <td>0</td>\n",
       "      <td>28</td>\n",
       "      <td>35</td>\n",
       "      <td>Anime</td>\n",
       "      <td>vod</td>\n",
       "      <td>TV Shows</td>\n",
       "      <td>1</td>\n",
       "      <td>1</td>\n",
       "      <td>1</td>\n",
       "      <td>a4d9b88c7ed63d723c70b358a857719c</td>\n",
       "    </tr>\n",
       "    <tr>\n",
       "      <th>2</th>\n",
       "      <td>1faf0ce0b98e02e1568702f516f01a78</td>\n",
       "      <td>20170106</td>\n",
       "      <td>0</td>\n",
       "      <td>36</td>\n",
       "      <td>35</td>\n",
       "      <td>Drama</td>\n",
       "      <td>vod</td>\n",
       "      <td>TV Shows</td>\n",
       "      <td>1</td>\n",
       "      <td>1</td>\n",
       "      <td>1</td>\n",
       "      <td>806660cb47633263a24bbc53238a9a53</td>\n",
       "    </tr>\n",
       "    <tr>\n",
       "      <th>3</th>\n",
       "      <td>3ec691b9d2b5d53ef965fe59b1900b30</td>\n",
       "      <td>20170106</td>\n",
       "      <td>0</td>\n",
       "      <td>48</td>\n",
       "      <td>35</td>\n",
       "      <td>Drama</td>\n",
       "      <td>vod</td>\n",
       "      <td>TV Shows</td>\n",
       "      <td>1</td>\n",
       "      <td>2</td>\n",
       "      <td>2</td>\n",
       "      <td>385114825a85d6878e7a0978f9ba5546</td>\n",
       "    </tr>\n",
       "    <tr>\n",
       "      <th>4</th>\n",
       "      <td>ff230d487a7139b65f33b54a4cbd2d9e</td>\n",
       "      <td>20170106</td>\n",
       "      <td>0</td>\n",
       "      <td>56</td>\n",
       "      <td>35</td>\n",
       "      <td>Comedy</td>\n",
       "      <td>vod</td>\n",
       "      <td>Movies</td>\n",
       "      <td>1</td>\n",
       "      <td>1</td>\n",
       "      <td>1</td>\n",
       "      <td>368a480ec0ae105aee8320dd93483e39</td>\n",
       "    </tr>\n",
       "  </tbody>\n",
       "</table>\n",
       "</div>"
      ],
      "text/plain": [
       "                             UserId      Date  Minute_Of_Day  Second  State  \\\n",
       "0  0280dfdd112732a3ac12b12dc770b7af  20170106              0       8     35   \n",
       "1  435d41ae019cb8db785483793859c9a8  20170106              0      28     35   \n",
       "2  1faf0ce0b98e02e1568702f516f01a78  20170106              0      36     35   \n",
       "3  3ec691b9d2b5d53ef965fe59b1900b30  20170106              0      48     35   \n",
       "4  ff230d487a7139b65f33b54a4cbd2d9e  20170106              0      56     35   \n",
       "\n",
       "       Genre Category ProgramType  Country  Device  OS  \\\n",
       "0   Romance      vod       Movies        1       1   2   \n",
       "1     Anime      vod     TV Shows        1       1   1   \n",
       "2     Drama      vod     TV Shows        1       1   1   \n",
       "3     Drama      vod     TV Shows        1       2   2   \n",
       "4    Comedy      vod       Movies        1       1   1   \n",
       "\n",
       "                            VideoId  \n",
       "0  36a27b379622f342ec87f9aafadb8f94  \n",
       "1  a4d9b88c7ed63d723c70b358a857719c  \n",
       "2  806660cb47633263a24bbc53238a9a53  \n",
       "3  385114825a85d6878e7a0978f9ba5546  \n",
       "4  368a480ec0ae105aee8320dd93483e39  "
      ]
     },
     "execution_count": 10,
     "metadata": {},
     "output_type": "execute_result"
    }
   ],
   "source": [
    "VideoStarted.head()"
   ]
  },
  {
   "cell_type": "code",
   "execution_count": 11,
   "metadata": {},
   "outputs": [
    {
     "data": {
      "text/plain": [
       "(1796525, 12)"
      ]
     },
     "execution_count": 11,
     "metadata": {},
     "output_type": "execute_result"
    }
   ],
   "source": [
    "VideoStarted.shape"
   ]
  },
  {
   "cell_type": "markdown",
   "metadata": {},
   "source": [
    "# VideoDetails"
   ]
  },
  {
   "cell_type": "code",
   "execution_count": 13,
   "metadata": {},
   "outputs": [
    {
     "data": {
      "text/html": [
       "<div>\n",
       "<style scoped>\n",
       "    .dataframe tbody tr th:only-of-type {\n",
       "        vertical-align: middle;\n",
       "    }\n",
       "\n",
       "    .dataframe tbody tr th {\n",
       "        vertical-align: top;\n",
       "    }\n",
       "\n",
       "    .dataframe thead th {\n",
       "        text-align: right;\n",
       "    }\n",
       "</style>\n",
       "<table border=\"1\" class=\"dataframe\">\n",
       "  <thead>\n",
       "    <tr style=\"text-align: right;\">\n",
       "      <th></th>\n",
       "      <th>UserId</th>\n",
       "      <th>Date</th>\n",
       "      <th>Minute_Of_Day</th>\n",
       "      <th>Second</th>\n",
       "      <th>State</th>\n",
       "      <th>Genre</th>\n",
       "      <th>Category</th>\n",
       "      <th>ProgramType</th>\n",
       "      <th>Country</th>\n",
       "      <th>Device</th>\n",
       "      <th>OS</th>\n",
       "      <th>VideoId</th>\n",
       "    </tr>\n",
       "  </thead>\n",
       "  <tbody>\n",
       "    <tr>\n",
       "      <th>0</th>\n",
       "      <td>dc93d200565e5bf6e6fc55adb1c5ba06</td>\n",
       "      <td>20170106</td>\n",
       "      <td>0</td>\n",
       "      <td>4</td>\n",
       "      <td>35</td>\n",
       "      <td>Drama</td>\n",
       "      <td>vod</td>\n",
       "      <td>TV Shows</td>\n",
       "      <td>1</td>\n",
       "      <td>2</td>\n",
       "      <td>1</td>\n",
       "      <td>1f2dc23e0d2415353982cfa38cbaf983</td>\n",
       "    </tr>\n",
       "    <tr>\n",
       "      <th>1</th>\n",
       "      <td>12060efd8b68ea562b265d0129a8af1f</td>\n",
       "      <td>20170106</td>\n",
       "      <td>0</td>\n",
       "      <td>16</td>\n",
       "      <td>35</td>\n",
       "      <td>Horror</td>\n",
       "      <td>vod</td>\n",
       "      <td>Movies</td>\n",
       "      <td>1</td>\n",
       "      <td>1</td>\n",
       "      <td>1</td>\n",
       "      <td>6c95441f239cebf9930ac5932cc84a7f</td>\n",
       "    </tr>\n",
       "    <tr>\n",
       "      <th>2</th>\n",
       "      <td>9151ab2a901458f27e36548d4a8dc011</td>\n",
       "      <td>20170106</td>\n",
       "      <td>0</td>\n",
       "      <td>20</td>\n",
       "      <td>0</td>\n",
       "      <td>Drama</td>\n",
       "      <td>vod</td>\n",
       "      <td>TV Shows</td>\n",
       "      <td>255</td>\n",
       "      <td>1</td>\n",
       "      <td>1</td>\n",
       "      <td>1af000794c63fa2722e22af609ff572c</td>\n",
       "    </tr>\n",
       "    <tr>\n",
       "      <th>3</th>\n",
       "      <td>1faf0ce0b98e02e1568702f516f01a78</td>\n",
       "      <td>20170106</td>\n",
       "      <td>0</td>\n",
       "      <td>20</td>\n",
       "      <td>35</td>\n",
       "      <td>Drama</td>\n",
       "      <td>vod</td>\n",
       "      <td>TV Shows</td>\n",
       "      <td>1</td>\n",
       "      <td>1</td>\n",
       "      <td>1</td>\n",
       "      <td>f053c42e98d50e06532ce8d65afb3ab3</td>\n",
       "    </tr>\n",
       "    <tr>\n",
       "      <th>4</th>\n",
       "      <td>435d41ae019cb8db785483793859c9a8</td>\n",
       "      <td>20170106</td>\n",
       "      <td>0</td>\n",
       "      <td>20</td>\n",
       "      <td>35</td>\n",
       "      <td>Anime</td>\n",
       "      <td>vod</td>\n",
       "      <td>TV Shows</td>\n",
       "      <td>1</td>\n",
       "      <td>1</td>\n",
       "      <td>1</td>\n",
       "      <td>2a9d984659afc14f801548dd71ddad0e</td>\n",
       "    </tr>\n",
       "  </tbody>\n",
       "</table>\n",
       "</div>"
      ],
      "text/plain": [
       "                             UserId      Date  Minute_Of_Day  Second  State  \\\n",
       "0  dc93d200565e5bf6e6fc55adb1c5ba06  20170106              0       4     35   \n",
       "1  12060efd8b68ea562b265d0129a8af1f  20170106              0      16     35   \n",
       "2  9151ab2a901458f27e36548d4a8dc011  20170106              0      20      0   \n",
       "3  1faf0ce0b98e02e1568702f516f01a78  20170106              0      20     35   \n",
       "4  435d41ae019cb8db785483793859c9a8  20170106              0      20     35   \n",
       "\n",
       "      Genre Category ProgramType  Country  Device  OS  \\\n",
       "0    Drama      vod    TV Shows         1       2   1   \n",
       "1   Horror      vod      Movies         1       1   1   \n",
       "2    Drama      vod    TV Shows       255       1   1   \n",
       "3    Drama      vod    TV Shows         1       1   1   \n",
       "4    Anime      vod    TV Shows         1       1   1   \n",
       "\n",
       "                            VideoId  \n",
       "0  1f2dc23e0d2415353982cfa38cbaf983  \n",
       "1  6c95441f239cebf9930ac5932cc84a7f  \n",
       "2  1af000794c63fa2722e22af609ff572c  \n",
       "3  f053c42e98d50e06532ce8d65afb3ab3  \n",
       "4  2a9d984659afc14f801548dd71ddad0e  "
      ]
     },
     "execution_count": 13,
     "metadata": {},
     "output_type": "execute_result"
    }
   ],
   "source": [
    "VideoDetails.head()"
   ]
  },
  {
   "cell_type": "code",
   "execution_count": 12,
   "metadata": {},
   "outputs": [
    {
     "data": {
      "text/plain": [
       "(3695451, 12)"
      ]
     },
     "execution_count": 12,
     "metadata": {},
     "output_type": "execute_result"
    }
   ],
   "source": [
    "VideoDetails.shape"
   ]
  },
  {
   "cell_type": "markdown",
   "metadata": {},
   "source": [
    "# AppUninstalled"
   ]
  },
  {
   "cell_type": "code",
   "execution_count": 14,
   "metadata": {},
   "outputs": [
    {
     "data": {
      "text/html": [
       "<div>\n",
       "<style scoped>\n",
       "    .dataframe tbody tr th:only-of-type {\n",
       "        vertical-align: middle;\n",
       "    }\n",
       "\n",
       "    .dataframe tbody tr th {\n",
       "        vertical-align: top;\n",
       "    }\n",
       "\n",
       "    .dataframe thead th {\n",
       "        text-align: right;\n",
       "    }\n",
       "</style>\n",
       "<table border=\"1\" class=\"dataframe\">\n",
       "  <thead>\n",
       "    <tr style=\"text-align: right;\">\n",
       "      <th></th>\n",
       "      <th>UserId</th>\n",
       "      <th>Date</th>\n",
       "      <th>Minute_Of_Day</th>\n",
       "      <th>Second</th>\n",
       "      <th>State</th>\n",
       "      <th>Country</th>\n",
       "      <th>Device</th>\n",
       "      <th>OS</th>\n",
       "    </tr>\n",
       "  </thead>\n",
       "  <tbody>\n",
       "    <tr>\n",
       "      <th>0</th>\n",
       "      <td>0d5f4cc176a4e1c648a9b9b5dbe21d69</td>\n",
       "      <td>20170106</td>\n",
       "      <td>0</td>\n",
       "      <td>0</td>\n",
       "      <td>47</td>\n",
       "      <td>1</td>\n",
       "      <td>1</td>\n",
       "      <td>1</td>\n",
       "    </tr>\n",
       "    <tr>\n",
       "      <th>1</th>\n",
       "      <td>807018f66aba113be576eb8afa4ea4b6</td>\n",
       "      <td>20170106</td>\n",
       "      <td>0</td>\n",
       "      <td>0</td>\n",
       "      <td>6</td>\n",
       "      <td>1</td>\n",
       "      <td>1</td>\n",
       "      <td>1</td>\n",
       "    </tr>\n",
       "    <tr>\n",
       "      <th>2</th>\n",
       "      <td>763e66e04918d8b8a7e69a778f5a742a</td>\n",
       "      <td>20170106</td>\n",
       "      <td>1</td>\n",
       "      <td>0</td>\n",
       "      <td>41</td>\n",
       "      <td>1</td>\n",
       "      <td>1</td>\n",
       "      <td>1</td>\n",
       "    </tr>\n",
       "    <tr>\n",
       "      <th>3</th>\n",
       "      <td>4ee1ed456fa04fc42168a9787b54b549</td>\n",
       "      <td>20170106</td>\n",
       "      <td>1</td>\n",
       "      <td>0</td>\n",
       "      <td>37</td>\n",
       "      <td>1</td>\n",
       "      <td>1</td>\n",
       "      <td>1</td>\n",
       "    </tr>\n",
       "    <tr>\n",
       "      <th>4</th>\n",
       "      <td>253e758a5557f9de890e814d901f6906</td>\n",
       "      <td>20170106</td>\n",
       "      <td>6</td>\n",
       "      <td>0</td>\n",
       "      <td>46</td>\n",
       "      <td>40</td>\n",
       "      <td>1</td>\n",
       "      <td>1</td>\n",
       "    </tr>\n",
       "  </tbody>\n",
       "</table>\n",
       "</div>"
      ],
      "text/plain": [
       "                             UserId      Date  Minute_Of_Day  Second  State  \\\n",
       "0  0d5f4cc176a4e1c648a9b9b5dbe21d69  20170106              0       0     47   \n",
       "1  807018f66aba113be576eb8afa4ea4b6  20170106              0       0      6   \n",
       "2  763e66e04918d8b8a7e69a778f5a742a  20170106              1       0     41   \n",
       "3  4ee1ed456fa04fc42168a9787b54b549  20170106              1       0     37   \n",
       "4  253e758a5557f9de890e814d901f6906  20170106              6       0     46   \n",
       "\n",
       "   Country  Device  OS  \n",
       "0        1       1   1  \n",
       "1        1       1   1  \n",
       "2        1       1   1  \n",
       "3        1       1   1  \n",
       "4       40       1   1  "
      ]
     },
     "execution_count": 14,
     "metadata": {},
     "output_type": "execute_result"
    }
   ],
   "source": [
    "AppUninstalled.head()"
   ]
  },
  {
   "cell_type": "code",
   "execution_count": 15,
   "metadata": {},
   "outputs": [
    {
     "data": {
      "text/plain": [
       "(326684, 8)"
      ]
     },
     "execution_count": 15,
     "metadata": {},
     "output_type": "execute_result"
    }
   ],
   "source": [
    "AppUninstalled.shape"
   ]
  },
  {
   "cell_type": "markdown",
   "metadata": {},
   "source": [
    "# Observations:\n",
    "1. Shape and features of all the datasets are different. \n",
    "2. The data is raw and we need to engineer features out of this raw data.\n",
    "3. Combining the time related features into one could reduce the dimensionality.\n",
    "4. The target variable has to be featured out of features that is going to be derived from the raw data.\n",
    " "
   ]
  }
 ],
 "metadata": {
  "kernelspec": {
   "display_name": "Python [conda env:Python]",
   "language": "python",
   "name": "conda-env-Python-py"
  },
  "language_info": {
   "codemirror_mode": {
    "name": "ipython",
    "version": 3
   },
   "file_extension": ".py",
   "mimetype": "text/x-python",
   "name": "python",
   "nbconvert_exporter": "python",
   "pygments_lexer": "ipython3",
   "version": "3.7.4"
  }
 },
 "nbformat": 4,
 "nbformat_minor": 4
}
