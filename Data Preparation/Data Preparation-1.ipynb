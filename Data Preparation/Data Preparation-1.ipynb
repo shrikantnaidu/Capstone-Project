{
 "cells": [
  {
   "cell_type": "code",
   "execution_count": 1,
   "metadata": {},
   "outputs": [],
   "source": [
    "import numpy as np\n",
    "import pandas as pd\n",
    "import matplotlib.pyplot as plt\n",
    "import seaborn as sns\n",
    "%matplotlib inline\n",
    "import warnings\n",
    "warnings.filterwarnings('ignore')\n",
    "from sklearn.preprocessing import LabelEncoder\n",
    "from sklearn.linear_model import LogisticRegression\n",
    "import datetime\n",
    "import time\n",
    "import swifter"
   ]
  },
  {
   "cell_type": "code",
   "execution_count": 2,
   "metadata": {},
   "outputs": [],
   "source": [
    "AppLaunched=pd.read_csv('./Data/AppLaunched.csv',sep=',')\n",
    "VideoDetails=pd.read_csv('./Data/VideoDetails.csv',sep=',')\n",
    "UTMVisited=pd.read_csv('./Data/UTMVisited.csv',sep=',')\n",
    "Registration=pd.read_csv('./Data/Registration.csv',sep=',')\n",
    "AppUninstalled=pd.read_csv('./Data/AppUninstalled.csv',sep=',')\n",
    "VideoStarted=pd.read_csv('./Data/VideoStarted.csv',sep=',')"
   ]
  },
  {
   "cell_type": "code",
   "execution_count": 3,
   "metadata": {},
   "outputs": [],
   "source": [
    "AppLaunchedMod = AppLaunched.copy()\n",
    "VideoDetailsMod = VideoDetails.copy()\n",
    "UTMVisitedMod = UTMVisited.copy()\n",
    "RegistrationMod = Registration.copy()\n",
    "AppUninstalledMod = AppUninstalled.copy()\n",
    "VideoStartedMod = VideoStarted.copy()"
   ]
  },
  {
   "cell_type": "code",
   "execution_count": 4,
   "metadata": {},
   "outputs": [],
   "source": [
    "def dateConvert(d) :\n",
    "    return datetime.datetime.strptime(str(d), '%Y%m%d')\n",
    "\n",
    "def timeConvert(t) :\n",
    "    return datetime.timedelta(minutes = int(t))\n",
    "\n",
    "def secondConvert(s) :\n",
    "    return datetime.timedelta(0,int(str(s)))"
   ]
  },
  {
   "cell_type": "markdown",
   "metadata": {},
   "source": [
    "# Creating timestamp for all the datasets"
   ]
  },
  {
   "cell_type": "code",
   "execution_count": 5,
   "metadata": {},
   "outputs": [
    {
     "data": {
      "application/vnd.jupyter.widget-view+json": {
       "model_id": "31222c9043a14a1592ec968346aa99a1",
       "version_major": 2,
       "version_minor": 0
      },
      "text/plain": [
       "HBox(children=(FloatProgress(value=0.0, description='Dask Apply', max=16.0, style=ProgressStyle(description_wi…"
      ]
     },
     "metadata": {},
     "output_type": "display_data"
    },
    {
     "name": "stdout",
     "output_type": "stream",
     "text": [
      "\n"
     ]
    },
    {
     "data": {
      "application/vnd.jupyter.widget-view+json": {
       "model_id": "d9b935122e3845d3823c5e84358f5a13",
       "version_major": 2,
       "version_minor": 0
      },
      "text/plain": [
       "HBox(children=(FloatProgress(value=0.0, description='Dask Apply', max=16.0, style=ProgressStyle(description_wi…"
      ]
     },
     "metadata": {},
     "output_type": "display_data"
    },
    {
     "name": "stdout",
     "output_type": "stream",
     "text": [
      "\n"
     ]
    },
    {
     "data": {
      "application/vnd.jupyter.widget-view+json": {
       "model_id": "cb56ac321eee464ab93aa7292326bfe4",
       "version_major": 2,
       "version_minor": 0
      },
      "text/plain": [
       "HBox(children=(FloatProgress(value=0.0, description='Dask Apply', max=16.0, style=ProgressStyle(description_wi…"
      ]
     },
     "metadata": {},
     "output_type": "display_data"
    },
    {
     "name": "stdout",
     "output_type": "stream",
     "text": [
      "\n"
     ]
    },
    {
     "data": {
      "application/vnd.jupyter.widget-view+json": {
       "model_id": "d14dcaaf75a34a2989a1c18cad61e3fb",
       "version_major": 2,
       "version_minor": 0
      },
      "text/plain": [
       "HBox(children=(FloatProgress(value=0.0, description='Dask Apply', max=16.0, style=ProgressStyle(description_wi…"
      ]
     },
     "metadata": {},
     "output_type": "display_data"
    },
    {
     "name": "stdout",
     "output_type": "stream",
     "text": [
      "\n"
     ]
    },
    {
     "data": {
      "application/vnd.jupyter.widget-view+json": {
       "model_id": "9f5b4441cb8648d399fccd861100a8c2",
       "version_major": 2,
       "version_minor": 0
      },
      "text/plain": [
       "HBox(children=(FloatProgress(value=0.0, description='Dask Apply', max=16.0, style=ProgressStyle(description_wi…"
      ]
     },
     "metadata": {},
     "output_type": "display_data"
    },
    {
     "name": "stdout",
     "output_type": "stream",
     "text": [
      "\n"
     ]
    },
    {
     "data": {
      "application/vnd.jupyter.widget-view+json": {
       "model_id": "e481750ae9524998bab1b385df856b97",
       "version_major": 2,
       "version_minor": 0
      },
      "text/plain": [
       "HBox(children=(FloatProgress(value=0.0, description='Dask Apply', max=16.0, style=ProgressStyle(description_wi…"
      ]
     },
     "metadata": {},
     "output_type": "display_data"
    },
    {
     "name": "stdout",
     "output_type": "stream",
     "text": [
      "\n"
     ]
    },
    {
     "data": {
      "application/vnd.jupyter.widget-view+json": {
       "model_id": "02196e3b8d924c9eba09c25e22ab1168",
       "version_major": 2,
       "version_minor": 0
      },
      "text/plain": [
       "HBox(children=(FloatProgress(value=0.0, description='Dask Apply', max=16.0, style=ProgressStyle(description_wi…"
      ]
     },
     "metadata": {},
     "output_type": "display_data"
    },
    {
     "name": "stdout",
     "output_type": "stream",
     "text": [
      "\n"
     ]
    },
    {
     "data": {
      "application/vnd.jupyter.widget-view+json": {
       "model_id": "4beafa8ef2fd415e918b6c2b9975dc40",
       "version_major": 2,
       "version_minor": 0
      },
      "text/plain": [
       "HBox(children=(FloatProgress(value=0.0, description='Dask Apply', max=16.0, style=ProgressStyle(description_wi…"
      ]
     },
     "metadata": {},
     "output_type": "display_data"
    },
    {
     "name": "stdout",
     "output_type": "stream",
     "text": [
      "\n"
     ]
    },
    {
     "data": {
      "application/vnd.jupyter.widget-view+json": {
       "model_id": "2cc8b8a65a7248bfaedb9e76d4526eff",
       "version_major": 2,
       "version_minor": 0
      },
      "text/plain": [
       "HBox(children=(FloatProgress(value=0.0, description='Dask Apply', max=16.0, style=ProgressStyle(description_wi…"
      ]
     },
     "metadata": {},
     "output_type": "display_data"
    },
    {
     "name": "stdout",
     "output_type": "stream",
     "text": [
      "\n"
     ]
    },
    {
     "data": {
      "application/vnd.jupyter.widget-view+json": {
       "model_id": "d201cb04ae6548658964c270eb5b80e5",
       "version_major": 2,
       "version_minor": 0
      },
      "text/plain": [
       "HBox(children=(FloatProgress(value=0.0, description='Dask Apply', max=16.0, style=ProgressStyle(description_wi…"
      ]
     },
     "metadata": {},
     "output_type": "display_data"
    },
    {
     "name": "stdout",
     "output_type": "stream",
     "text": [
      "\n"
     ]
    },
    {
     "data": {
      "application/vnd.jupyter.widget-view+json": {
       "model_id": "3bdb1081ff5446a788ffc50440811368",
       "version_major": 2,
       "version_minor": 0
      },
      "text/plain": [
       "HBox(children=(FloatProgress(value=0.0, description='Dask Apply', max=16.0, style=ProgressStyle(description_wi…"
      ]
     },
     "metadata": {},
     "output_type": "display_data"
    },
    {
     "name": "stdout",
     "output_type": "stream",
     "text": [
      "\n"
     ]
    },
    {
     "data": {
      "application/vnd.jupyter.widget-view+json": {
       "model_id": "fe29a36acee64c0a8c5e251aa4e1d09d",
       "version_major": 2,
       "version_minor": 0
      },
      "text/plain": [
       "HBox(children=(FloatProgress(value=0.0, description='Dask Apply', max=16.0, style=ProgressStyle(description_wi…"
      ]
     },
     "metadata": {},
     "output_type": "display_data"
    },
    {
     "name": "stdout",
     "output_type": "stream",
     "text": [
      "\n"
     ]
    },
    {
     "data": {
      "application/vnd.jupyter.widget-view+json": {
       "model_id": "3be4d82d618d41749440f6412b7fc1d3",
       "version_major": 2,
       "version_minor": 0
      },
      "text/plain": [
       "HBox(children=(FloatProgress(value=0.0, description='Dask Apply', max=16.0, style=ProgressStyle(description_wi…"
      ]
     },
     "metadata": {},
     "output_type": "display_data"
    },
    {
     "name": "stdout",
     "output_type": "stream",
     "text": [
      "\n"
     ]
    },
    {
     "data": {
      "application/vnd.jupyter.widget-view+json": {
       "model_id": "3e8e32c5c515462284144658e3fac796",
       "version_major": 2,
       "version_minor": 0
      },
      "text/plain": [
       "HBox(children=(FloatProgress(value=0.0, description='Dask Apply', max=16.0, style=ProgressStyle(description_wi…"
      ]
     },
     "metadata": {},
     "output_type": "display_data"
    },
    {
     "name": "stdout",
     "output_type": "stream",
     "text": [
      "\n"
     ]
    },
    {
     "data": {
      "application/vnd.jupyter.widget-view+json": {
       "model_id": "ed7fb48b538a4de497754864ce035320",
       "version_major": 2,
       "version_minor": 0
      },
      "text/plain": [
       "HBox(children=(FloatProgress(value=0.0, description='Dask Apply', max=16.0, style=ProgressStyle(description_wi…"
      ]
     },
     "metadata": {},
     "output_type": "display_data"
    },
    {
     "name": "stdout",
     "output_type": "stream",
     "text": [
      "\n"
     ]
    },
    {
     "data": {
      "application/vnd.jupyter.widget-view+json": {
       "model_id": "399775a0399d4f1fb74a30e65cffea11",
       "version_major": 2,
       "version_minor": 0
      },
      "text/plain": [
       "HBox(children=(FloatProgress(value=0.0, description='Dask Apply', max=16.0, style=ProgressStyle(description_wi…"
      ]
     },
     "metadata": {},
     "output_type": "display_data"
    },
    {
     "name": "stdout",
     "output_type": "stream",
     "text": [
      "\n"
     ]
    },
    {
     "data": {
      "application/vnd.jupyter.widget-view+json": {
       "model_id": "8ec5541c2e5e47cd97e927d47013f5f9",
       "version_major": 2,
       "version_minor": 0
      },
      "text/plain": [
       "HBox(children=(FloatProgress(value=0.0, description='Dask Apply', max=16.0, style=ProgressStyle(description_wi…"
      ]
     },
     "metadata": {},
     "output_type": "display_data"
    },
    {
     "name": "stdout",
     "output_type": "stream",
     "text": [
      "\n"
     ]
    },
    {
     "data": {
      "application/vnd.jupyter.widget-view+json": {
       "model_id": "5558463c5f3548f4af705f5a482f24da",
       "version_major": 2,
       "version_minor": 0
      },
      "text/plain": [
       "HBox(children=(FloatProgress(value=0.0, description='Dask Apply', max=16.0, style=ProgressStyle(description_wi…"
      ]
     },
     "metadata": {},
     "output_type": "display_data"
    },
    {
     "name": "stdout",
     "output_type": "stream",
     "text": [
      "\n"
     ]
    }
   ],
   "source": [
    "AppLaunchedMod['DateTime'] = AppLaunchedMod['Date'].swifter.apply(lambda x: dateConvert(x)) + AppLaunchedMod['Minute_Of_Day'].swifter.apply(lambda y: timeConvert(y)) + AppLaunchedMod['Second'].swifter.apply(lambda z: secondConvert(z))\n",
    "VideoDetailsMod['DateTime'] = VideoDetailsMod['Date'].swifter.apply(lambda x: dateConvert(x)) + VideoDetailsMod['Minute_Of_Day'].swifter.apply(lambda y: timeConvert(y)) + VideoDetailsMod['Second'].swifter.apply(lambda z: secondConvert(z))\n",
    "UTMVisitedMod['DateTime'] = UTMVisitedMod['Date'].swifter.apply(lambda x: dateConvert(x)) + UTMVisitedMod['Minute_Of_Day'].swifter.apply(lambda y: timeConvert(y)) + UTMVisitedMod['Second'].swifter.apply(lambda z: secondConvert(z))\n",
    "RegistrationMod['DateTime'] = RegistrationMod['Date'].swifter.apply(lambda x: dateConvert(x)) + RegistrationMod['Minute_Of_Day'].swifter.apply(lambda y: timeConvert(y)) + RegistrationMod['Second'].swifter.apply(lambda z: secondConvert(z))\n",
    "AppUninstalledMod['DateTime'] = AppUninstalledMod['Date'].swifter.apply(lambda x: dateConvert(x)) + AppUninstalledMod['Minute_Of_Day'].swifter.apply(lambda y: timeConvert(y)) + AppUninstalledMod['Second'].swifter.apply(lambda z: secondConvert(z))\n",
    "VideoStartedMod['DateTime'] = VideoStartedMod['Date'].swifter.apply(lambda x: dateConvert(x)) + VideoStartedMod['Minute_Of_Day'].swifter.apply(lambda y: timeConvert(y)) + VideoStartedMod['Second'].swifter.apply(lambda z: secondConvert(z))"
   ]
  },
  {
   "cell_type": "markdown",
   "metadata": {},
   "source": [
    "# Registration"
   ]
  },
  {
   "cell_type": "code",
   "execution_count": 6,
   "metadata": {},
   "outputs": [
    {
     "data": {
      "text/html": [
       "<div>\n",
       "<style scoped>\n",
       "    .dataframe tbody tr th:only-of-type {\n",
       "        vertical-align: middle;\n",
       "    }\n",
       "\n",
       "    .dataframe tbody tr th {\n",
       "        vertical-align: top;\n",
       "    }\n",
       "\n",
       "    .dataframe thead th {\n",
       "        text-align: right;\n",
       "    }\n",
       "</style>\n",
       "<table border=\"1\" class=\"dataframe\">\n",
       "  <thead>\n",
       "    <tr style=\"text-align: right;\">\n",
       "      <th></th>\n",
       "      <th>UserId</th>\n",
       "      <th>Date</th>\n",
       "      <th>Minute_Of_Day</th>\n",
       "      <th>Second</th>\n",
       "      <th>State</th>\n",
       "      <th>Country</th>\n",
       "      <th>Device</th>\n",
       "      <th>OS</th>\n",
       "      <th>Status</th>\n",
       "      <th>DateTime</th>\n",
       "    </tr>\n",
       "  </thead>\n",
       "  <tbody>\n",
       "    <tr>\n",
       "      <th>0</th>\n",
       "      <td>d168e2b924124feaad13eae44a68fce9</td>\n",
       "      <td>20170106</td>\n",
       "      <td>0</td>\n",
       "      <td>8</td>\n",
       "      <td>35</td>\n",
       "      <td>1</td>\n",
       "      <td>1</td>\n",
       "      <td>2</td>\n",
       "      <td>Complete</td>\n",
       "      <td>2017-01-06 00:00:08</td>\n",
       "    </tr>\n",
       "    <tr>\n",
       "      <th>1</th>\n",
       "      <td>deed7490952a6746610ee2ee9fd219b7</td>\n",
       "      <td>20170106</td>\n",
       "      <td>0</td>\n",
       "      <td>8</td>\n",
       "      <td>7</td>\n",
       "      <td>40</td>\n",
       "      <td>1</td>\n",
       "      <td>1</td>\n",
       "      <td>Completed</td>\n",
       "      <td>2017-01-06 00:00:08</td>\n",
       "    </tr>\n",
       "    <tr>\n",
       "      <th>2</th>\n",
       "      <td>13d9f55e297d7d9c219fbe9085e1006c</td>\n",
       "      <td>20170106</td>\n",
       "      <td>0</td>\n",
       "      <td>28</td>\n",
       "      <td>35</td>\n",
       "      <td>1</td>\n",
       "      <td>1</td>\n",
       "      <td>2</td>\n",
       "      <td>Complete</td>\n",
       "      <td>2017-01-06 00:00:28</td>\n",
       "    </tr>\n",
       "    <tr>\n",
       "      <th>3</th>\n",
       "      <td>fccc2c0abf5afabf242a70df7b4c9e69</td>\n",
       "      <td>20170106</td>\n",
       "      <td>0</td>\n",
       "      <td>52</td>\n",
       "      <td>39</td>\n",
       "      <td>1</td>\n",
       "      <td>1</td>\n",
       "      <td>1</td>\n",
       "      <td>Completed</td>\n",
       "      <td>2017-01-06 00:00:52</td>\n",
       "    </tr>\n",
       "    <tr>\n",
       "      <th>4</th>\n",
       "      <td>9ff982b29d78cefc8eb5a3ffb7fd2a5d</td>\n",
       "      <td>20170106</td>\n",
       "      <td>0</td>\n",
       "      <td>52</td>\n",
       "      <td>38</td>\n",
       "      <td>1</td>\n",
       "      <td>1</td>\n",
       "      <td>1</td>\n",
       "      <td>Not Completed</td>\n",
       "      <td>2017-01-06 00:00:52</td>\n",
       "    </tr>\n",
       "  </tbody>\n",
       "</table>\n",
       "</div>"
      ],
      "text/plain": [
       "                             UserId      Date  Minute_Of_Day  Second  State  \\\n",
       "0  d168e2b924124feaad13eae44a68fce9  20170106              0       8     35   \n",
       "1  deed7490952a6746610ee2ee9fd219b7  20170106              0       8      7   \n",
       "2  13d9f55e297d7d9c219fbe9085e1006c  20170106              0      28     35   \n",
       "3  fccc2c0abf5afabf242a70df7b4c9e69  20170106              0      52     39   \n",
       "4  9ff982b29d78cefc8eb5a3ffb7fd2a5d  20170106              0      52     38   \n",
       "\n",
       "   Country  Device  OS         Status            DateTime  \n",
       "0        1       1   2       Complete 2017-01-06 00:00:08  \n",
       "1       40       1   1      Completed 2017-01-06 00:00:08  \n",
       "2        1       1   2       Complete 2017-01-06 00:00:28  \n",
       "3        1       1   1      Completed 2017-01-06 00:00:52  \n",
       "4        1       1   1  Not Completed 2017-01-06 00:00:52  "
      ]
     },
     "execution_count": 6,
     "metadata": {},
     "output_type": "execute_result"
    }
   ],
   "source": [
    "RegistrationMod.head()"
   ]
  },
  {
   "cell_type": "code",
   "execution_count": 7,
   "metadata": {},
   "outputs": [
    {
     "data": {
      "text/html": [
       "<div>\n",
       "<style scoped>\n",
       "    .dataframe tbody tr th:only-of-type {\n",
       "        vertical-align: middle;\n",
       "    }\n",
       "\n",
       "    .dataframe tbody tr th {\n",
       "        vertical-align: top;\n",
       "    }\n",
       "\n",
       "    .dataframe thead th {\n",
       "        text-align: right;\n",
       "    }\n",
       "</style>\n",
       "<table border=\"1\" class=\"dataframe\">\n",
       "  <thead>\n",
       "    <tr style=\"text-align: right;\">\n",
       "      <th></th>\n",
       "      <th>UserId</th>\n",
       "      <th>State</th>\n",
       "      <th>Country</th>\n",
       "      <th>Device</th>\n",
       "      <th>OS</th>\n",
       "      <th>Status</th>\n",
       "      <th>DateTime</th>\n",
       "    </tr>\n",
       "  </thead>\n",
       "  <tbody>\n",
       "    <tr>\n",
       "      <th>0</th>\n",
       "      <td>d168e2b924124feaad13eae44a68fce9</td>\n",
       "      <td>35</td>\n",
       "      <td>1</td>\n",
       "      <td>1</td>\n",
       "      <td>2</td>\n",
       "      <td>Complete</td>\n",
       "      <td>2017-01-06 00:00:08</td>\n",
       "    </tr>\n",
       "    <tr>\n",
       "      <th>1</th>\n",
       "      <td>deed7490952a6746610ee2ee9fd219b7</td>\n",
       "      <td>7</td>\n",
       "      <td>40</td>\n",
       "      <td>1</td>\n",
       "      <td>1</td>\n",
       "      <td>Completed</td>\n",
       "      <td>2017-01-06 00:00:08</td>\n",
       "    </tr>\n",
       "    <tr>\n",
       "      <th>2</th>\n",
       "      <td>13d9f55e297d7d9c219fbe9085e1006c</td>\n",
       "      <td>35</td>\n",
       "      <td>1</td>\n",
       "      <td>1</td>\n",
       "      <td>2</td>\n",
       "      <td>Complete</td>\n",
       "      <td>2017-01-06 00:00:28</td>\n",
       "    </tr>\n",
       "    <tr>\n",
       "      <th>3</th>\n",
       "      <td>fccc2c0abf5afabf242a70df7b4c9e69</td>\n",
       "      <td>39</td>\n",
       "      <td>1</td>\n",
       "      <td>1</td>\n",
       "      <td>1</td>\n",
       "      <td>Completed</td>\n",
       "      <td>2017-01-06 00:00:52</td>\n",
       "    </tr>\n",
       "    <tr>\n",
       "      <th>4</th>\n",
       "      <td>9ff982b29d78cefc8eb5a3ffb7fd2a5d</td>\n",
       "      <td>38</td>\n",
       "      <td>1</td>\n",
       "      <td>1</td>\n",
       "      <td>1</td>\n",
       "      <td>Not Completed</td>\n",
       "      <td>2017-01-06 00:00:52</td>\n",
       "    </tr>\n",
       "  </tbody>\n",
       "</table>\n",
       "</div>"
      ],
      "text/plain": [
       "                             UserId  State  Country  Device  OS  \\\n",
       "0  d168e2b924124feaad13eae44a68fce9     35        1       1   2   \n",
       "1  deed7490952a6746610ee2ee9fd219b7      7       40       1   1   \n",
       "2  13d9f55e297d7d9c219fbe9085e1006c     35        1       1   2   \n",
       "3  fccc2c0abf5afabf242a70df7b4c9e69     39        1       1   1   \n",
       "4  9ff982b29d78cefc8eb5a3ffb7fd2a5d     38        1       1   1   \n",
       "\n",
       "          Status            DateTime  \n",
       "0       Complete 2017-01-06 00:00:08  \n",
       "1      Completed 2017-01-06 00:00:08  \n",
       "2       Complete 2017-01-06 00:00:28  \n",
       "3      Completed 2017-01-06 00:00:52  \n",
       "4  Not Completed 2017-01-06 00:00:52  "
      ]
     },
     "execution_count": 7,
     "metadata": {},
     "output_type": "execute_result"
    }
   ],
   "source": [
    "RegistrationMod.drop(columns={'Date','Minute_Of_Day','Second'},inplace=True)\n",
    "RegistrationMod.head()"
   ]
  },
  {
   "cell_type": "markdown",
   "metadata": {},
   "source": [
    "# AppLaunched"
   ]
  },
  {
   "cell_type": "code",
   "execution_count": 8,
   "metadata": {},
   "outputs": [
    {
     "data": {
      "text/html": [
       "<div>\n",
       "<style scoped>\n",
       "    .dataframe tbody tr th:only-of-type {\n",
       "        vertical-align: middle;\n",
       "    }\n",
       "\n",
       "    .dataframe tbody tr th {\n",
       "        vertical-align: top;\n",
       "    }\n",
       "\n",
       "    .dataframe thead th {\n",
       "        text-align: right;\n",
       "    }\n",
       "</style>\n",
       "<table border=\"1\" class=\"dataframe\">\n",
       "  <thead>\n",
       "    <tr style=\"text-align: right;\">\n",
       "      <th></th>\n",
       "      <th>UserId</th>\n",
       "      <th>Date</th>\n",
       "      <th>Minute_Of_Day</th>\n",
       "      <th>Second</th>\n",
       "      <th>State</th>\n",
       "      <th>Country</th>\n",
       "      <th>Device</th>\n",
       "      <th>OS</th>\n",
       "      <th>DateTime</th>\n",
       "    </tr>\n",
       "  </thead>\n",
       "  <tbody>\n",
       "    <tr>\n",
       "      <th>0</th>\n",
       "      <td>a27134c322d4f56dabc106a6847cb96b</td>\n",
       "      <td>20170106</td>\n",
       "      <td>0</td>\n",
       "      <td>4</td>\n",
       "      <td>50</td>\n",
       "      <td>1</td>\n",
       "      <td>1</td>\n",
       "      <td>2</td>\n",
       "      <td>2017-01-06 00:00:04</td>\n",
       "    </tr>\n",
       "    <tr>\n",
       "      <th>1</th>\n",
       "      <td>aab39ad0874c59cc388525d511667f9d</td>\n",
       "      <td>20170106</td>\n",
       "      <td>0</td>\n",
       "      <td>8</td>\n",
       "      <td>40</td>\n",
       "      <td>1</td>\n",
       "      <td>1</td>\n",
       "      <td>2</td>\n",
       "      <td>2017-01-06 00:00:08</td>\n",
       "    </tr>\n",
       "    <tr>\n",
       "      <th>2</th>\n",
       "      <td>f717dc3f757dc18cc0c3f27ed3e94ef8</td>\n",
       "      <td>20170106</td>\n",
       "      <td>0</td>\n",
       "      <td>12</td>\n",
       "      <td>35</td>\n",
       "      <td>1</td>\n",
       "      <td>1</td>\n",
       "      <td>2</td>\n",
       "      <td>2017-01-06 00:00:12</td>\n",
       "    </tr>\n",
       "    <tr>\n",
       "      <th>3</th>\n",
       "      <td>04c1e14fd54a06c0d4fe98cf0cb8b04c</td>\n",
       "      <td>20170106</td>\n",
       "      <td>0</td>\n",
       "      <td>20</td>\n",
       "      <td>40</td>\n",
       "      <td>1</td>\n",
       "      <td>2</td>\n",
       "      <td>2</td>\n",
       "      <td>2017-01-06 00:00:20</td>\n",
       "    </tr>\n",
       "    <tr>\n",
       "      <th>4</th>\n",
       "      <td>71f05822bb699a04b694dd30265fdf73</td>\n",
       "      <td>20170106</td>\n",
       "      <td>0</td>\n",
       "      <td>20</td>\n",
       "      <td>35</td>\n",
       "      <td>1</td>\n",
       "      <td>1</td>\n",
       "      <td>2</td>\n",
       "      <td>2017-01-06 00:00:20</td>\n",
       "    </tr>\n",
       "  </tbody>\n",
       "</table>\n",
       "</div>"
      ],
      "text/plain": [
       "                             UserId      Date  Minute_Of_Day  Second  State  \\\n",
       "0  a27134c322d4f56dabc106a6847cb96b  20170106              0       4     50   \n",
       "1  aab39ad0874c59cc388525d511667f9d  20170106              0       8     40   \n",
       "2  f717dc3f757dc18cc0c3f27ed3e94ef8  20170106              0      12     35   \n",
       "3  04c1e14fd54a06c0d4fe98cf0cb8b04c  20170106              0      20     40   \n",
       "4  71f05822bb699a04b694dd30265fdf73  20170106              0      20     35   \n",
       "\n",
       "   Country  Device  OS            DateTime  \n",
       "0        1       1   2 2017-01-06 00:00:04  \n",
       "1        1       1   2 2017-01-06 00:00:08  \n",
       "2        1       1   2 2017-01-06 00:00:12  \n",
       "3        1       2   2 2017-01-06 00:00:20  \n",
       "4        1       1   2 2017-01-06 00:00:20  "
      ]
     },
     "execution_count": 8,
     "metadata": {},
     "output_type": "execute_result"
    }
   ],
   "source": [
    "AppLaunchedMod.head()"
   ]
  },
  {
   "cell_type": "code",
   "execution_count": 9,
   "metadata": {},
   "outputs": [
    {
     "data": {
      "text/html": [
       "<div>\n",
       "<style scoped>\n",
       "    .dataframe tbody tr th:only-of-type {\n",
       "        vertical-align: middle;\n",
       "    }\n",
       "\n",
       "    .dataframe tbody tr th {\n",
       "        vertical-align: top;\n",
       "    }\n",
       "\n",
       "    .dataframe thead th {\n",
       "        text-align: right;\n",
       "    }\n",
       "</style>\n",
       "<table border=\"1\" class=\"dataframe\">\n",
       "  <thead>\n",
       "    <tr style=\"text-align: right;\">\n",
       "      <th></th>\n",
       "      <th>UserId</th>\n",
       "      <th>State</th>\n",
       "      <th>Country</th>\n",
       "      <th>Device</th>\n",
       "      <th>OS</th>\n",
       "      <th>DateTime</th>\n",
       "    </tr>\n",
       "  </thead>\n",
       "  <tbody>\n",
       "    <tr>\n",
       "      <th>0</th>\n",
       "      <td>a27134c322d4f56dabc106a6847cb96b</td>\n",
       "      <td>50</td>\n",
       "      <td>1</td>\n",
       "      <td>1</td>\n",
       "      <td>2</td>\n",
       "      <td>2017-01-06 00:00:04</td>\n",
       "    </tr>\n",
       "    <tr>\n",
       "      <th>1</th>\n",
       "      <td>aab39ad0874c59cc388525d511667f9d</td>\n",
       "      <td>40</td>\n",
       "      <td>1</td>\n",
       "      <td>1</td>\n",
       "      <td>2</td>\n",
       "      <td>2017-01-06 00:00:08</td>\n",
       "    </tr>\n",
       "    <tr>\n",
       "      <th>2</th>\n",
       "      <td>f717dc3f757dc18cc0c3f27ed3e94ef8</td>\n",
       "      <td>35</td>\n",
       "      <td>1</td>\n",
       "      <td>1</td>\n",
       "      <td>2</td>\n",
       "      <td>2017-01-06 00:00:12</td>\n",
       "    </tr>\n",
       "    <tr>\n",
       "      <th>3</th>\n",
       "      <td>04c1e14fd54a06c0d4fe98cf0cb8b04c</td>\n",
       "      <td>40</td>\n",
       "      <td>1</td>\n",
       "      <td>2</td>\n",
       "      <td>2</td>\n",
       "      <td>2017-01-06 00:00:20</td>\n",
       "    </tr>\n",
       "    <tr>\n",
       "      <th>4</th>\n",
       "      <td>71f05822bb699a04b694dd30265fdf73</td>\n",
       "      <td>35</td>\n",
       "      <td>1</td>\n",
       "      <td>1</td>\n",
       "      <td>2</td>\n",
       "      <td>2017-01-06 00:00:20</td>\n",
       "    </tr>\n",
       "  </tbody>\n",
       "</table>\n",
       "</div>"
      ],
      "text/plain": [
       "                             UserId  State  Country  Device  OS  \\\n",
       "0  a27134c322d4f56dabc106a6847cb96b     50        1       1   2   \n",
       "1  aab39ad0874c59cc388525d511667f9d     40        1       1   2   \n",
       "2  f717dc3f757dc18cc0c3f27ed3e94ef8     35        1       1   2   \n",
       "3  04c1e14fd54a06c0d4fe98cf0cb8b04c     40        1       2   2   \n",
       "4  71f05822bb699a04b694dd30265fdf73     35        1       1   2   \n",
       "\n",
       "             DateTime  \n",
       "0 2017-01-06 00:00:04  \n",
       "1 2017-01-06 00:00:08  \n",
       "2 2017-01-06 00:00:12  \n",
       "3 2017-01-06 00:00:20  \n",
       "4 2017-01-06 00:00:20  "
      ]
     },
     "execution_count": 9,
     "metadata": {},
     "output_type": "execute_result"
    }
   ],
   "source": [
    "AppLaunchedMod.drop(columns={'Date','Minute_Of_Day','Second'},inplace=True)\n",
    "AppLaunchedMod.head()"
   ]
  },
  {
   "cell_type": "markdown",
   "metadata": {},
   "source": [
    "# VideoDetails"
   ]
  },
  {
   "cell_type": "code",
   "execution_count": 10,
   "metadata": {},
   "outputs": [
    {
     "data": {
      "text/html": [
       "<div>\n",
       "<style scoped>\n",
       "    .dataframe tbody tr th:only-of-type {\n",
       "        vertical-align: middle;\n",
       "    }\n",
       "\n",
       "    .dataframe tbody tr th {\n",
       "        vertical-align: top;\n",
       "    }\n",
       "\n",
       "    .dataframe thead th {\n",
       "        text-align: right;\n",
       "    }\n",
       "</style>\n",
       "<table border=\"1\" class=\"dataframe\">\n",
       "  <thead>\n",
       "    <tr style=\"text-align: right;\">\n",
       "      <th></th>\n",
       "      <th>UserId</th>\n",
       "      <th>Date</th>\n",
       "      <th>Minute_Of_Day</th>\n",
       "      <th>Second</th>\n",
       "      <th>State</th>\n",
       "      <th>Genre</th>\n",
       "      <th>Category</th>\n",
       "      <th>ProgramType</th>\n",
       "      <th>Country</th>\n",
       "      <th>Device</th>\n",
       "      <th>OS</th>\n",
       "      <th>VideoId</th>\n",
       "      <th>DateTime</th>\n",
       "    </tr>\n",
       "  </thead>\n",
       "  <tbody>\n",
       "    <tr>\n",
       "      <th>0</th>\n",
       "      <td>dc93d200565e5bf6e6fc55adb1c5ba06</td>\n",
       "      <td>20170106</td>\n",
       "      <td>0</td>\n",
       "      <td>4</td>\n",
       "      <td>35</td>\n",
       "      <td>Drama</td>\n",
       "      <td>vod</td>\n",
       "      <td>TV Shows</td>\n",
       "      <td>1</td>\n",
       "      <td>2</td>\n",
       "      <td>1</td>\n",
       "      <td>1f2dc23e0d2415353982cfa38cbaf983</td>\n",
       "      <td>2017-01-06 00:00:04</td>\n",
       "    </tr>\n",
       "    <tr>\n",
       "      <th>1</th>\n",
       "      <td>12060efd8b68ea562b265d0129a8af1f</td>\n",
       "      <td>20170106</td>\n",
       "      <td>0</td>\n",
       "      <td>16</td>\n",
       "      <td>35</td>\n",
       "      <td>Horror</td>\n",
       "      <td>vod</td>\n",
       "      <td>Movies</td>\n",
       "      <td>1</td>\n",
       "      <td>1</td>\n",
       "      <td>1</td>\n",
       "      <td>6c95441f239cebf9930ac5932cc84a7f</td>\n",
       "      <td>2017-01-06 00:00:16</td>\n",
       "    </tr>\n",
       "    <tr>\n",
       "      <th>2</th>\n",
       "      <td>9151ab2a901458f27e36548d4a8dc011</td>\n",
       "      <td>20170106</td>\n",
       "      <td>0</td>\n",
       "      <td>20</td>\n",
       "      <td>0</td>\n",
       "      <td>Drama</td>\n",
       "      <td>vod</td>\n",
       "      <td>TV Shows</td>\n",
       "      <td>255</td>\n",
       "      <td>1</td>\n",
       "      <td>1</td>\n",
       "      <td>1af000794c63fa2722e22af609ff572c</td>\n",
       "      <td>2017-01-06 00:00:20</td>\n",
       "    </tr>\n",
       "    <tr>\n",
       "      <th>3</th>\n",
       "      <td>1faf0ce0b98e02e1568702f516f01a78</td>\n",
       "      <td>20170106</td>\n",
       "      <td>0</td>\n",
       "      <td>20</td>\n",
       "      <td>35</td>\n",
       "      <td>Drama</td>\n",
       "      <td>vod</td>\n",
       "      <td>TV Shows</td>\n",
       "      <td>1</td>\n",
       "      <td>1</td>\n",
       "      <td>1</td>\n",
       "      <td>f053c42e98d50e06532ce8d65afb3ab3</td>\n",
       "      <td>2017-01-06 00:00:20</td>\n",
       "    </tr>\n",
       "    <tr>\n",
       "      <th>4</th>\n",
       "      <td>435d41ae019cb8db785483793859c9a8</td>\n",
       "      <td>20170106</td>\n",
       "      <td>0</td>\n",
       "      <td>20</td>\n",
       "      <td>35</td>\n",
       "      <td>Anime</td>\n",
       "      <td>vod</td>\n",
       "      <td>TV Shows</td>\n",
       "      <td>1</td>\n",
       "      <td>1</td>\n",
       "      <td>1</td>\n",
       "      <td>2a9d984659afc14f801548dd71ddad0e</td>\n",
       "      <td>2017-01-06 00:00:20</td>\n",
       "    </tr>\n",
       "  </tbody>\n",
       "</table>\n",
       "</div>"
      ],
      "text/plain": [
       "                             UserId      Date  Minute_Of_Day  Second  State  \\\n",
       "0  dc93d200565e5bf6e6fc55adb1c5ba06  20170106              0       4     35   \n",
       "1  12060efd8b68ea562b265d0129a8af1f  20170106              0      16     35   \n",
       "2  9151ab2a901458f27e36548d4a8dc011  20170106              0      20      0   \n",
       "3  1faf0ce0b98e02e1568702f516f01a78  20170106              0      20     35   \n",
       "4  435d41ae019cb8db785483793859c9a8  20170106              0      20     35   \n",
       "\n",
       "      Genre Category ProgramType  Country  Device  OS  \\\n",
       "0    Drama      vod    TV Shows         1       2   1   \n",
       "1   Horror      vod      Movies         1       1   1   \n",
       "2    Drama      vod    TV Shows       255       1   1   \n",
       "3    Drama      vod    TV Shows         1       1   1   \n",
       "4    Anime      vod    TV Shows         1       1   1   \n",
       "\n",
       "                            VideoId            DateTime  \n",
       "0  1f2dc23e0d2415353982cfa38cbaf983 2017-01-06 00:00:04  \n",
       "1  6c95441f239cebf9930ac5932cc84a7f 2017-01-06 00:00:16  \n",
       "2  1af000794c63fa2722e22af609ff572c 2017-01-06 00:00:20  \n",
       "3  f053c42e98d50e06532ce8d65afb3ab3 2017-01-06 00:00:20  \n",
       "4  2a9d984659afc14f801548dd71ddad0e 2017-01-06 00:00:20  "
      ]
     },
     "execution_count": 10,
     "metadata": {},
     "output_type": "execute_result"
    }
   ],
   "source": [
    "VideoDetailsMod.head()"
   ]
  },
  {
   "cell_type": "code",
   "execution_count": 11,
   "metadata": {},
   "outputs": [
    {
     "data": {
      "text/html": [
       "<div>\n",
       "<style scoped>\n",
       "    .dataframe tbody tr th:only-of-type {\n",
       "        vertical-align: middle;\n",
       "    }\n",
       "\n",
       "    .dataframe tbody tr th {\n",
       "        vertical-align: top;\n",
       "    }\n",
       "\n",
       "    .dataframe thead th {\n",
       "        text-align: right;\n",
       "    }\n",
       "</style>\n",
       "<table border=\"1\" class=\"dataframe\">\n",
       "  <thead>\n",
       "    <tr style=\"text-align: right;\">\n",
       "      <th></th>\n",
       "      <th>UserId</th>\n",
       "      <th>State</th>\n",
       "      <th>Genre</th>\n",
       "      <th>Category</th>\n",
       "      <th>ProgramType</th>\n",
       "      <th>Country</th>\n",
       "      <th>Device</th>\n",
       "      <th>OS</th>\n",
       "      <th>VideoId</th>\n",
       "      <th>DateTime</th>\n",
       "    </tr>\n",
       "  </thead>\n",
       "  <tbody>\n",
       "    <tr>\n",
       "      <th>0</th>\n",
       "      <td>dc93d200565e5bf6e6fc55adb1c5ba06</td>\n",
       "      <td>35</td>\n",
       "      <td>Drama</td>\n",
       "      <td>vod</td>\n",
       "      <td>TV Shows</td>\n",
       "      <td>1</td>\n",
       "      <td>2</td>\n",
       "      <td>1</td>\n",
       "      <td>1f2dc23e0d2415353982cfa38cbaf983</td>\n",
       "      <td>2017-01-06 00:00:04</td>\n",
       "    </tr>\n",
       "    <tr>\n",
       "      <th>1</th>\n",
       "      <td>12060efd8b68ea562b265d0129a8af1f</td>\n",
       "      <td>35</td>\n",
       "      <td>Horror</td>\n",
       "      <td>vod</td>\n",
       "      <td>Movies</td>\n",
       "      <td>1</td>\n",
       "      <td>1</td>\n",
       "      <td>1</td>\n",
       "      <td>6c95441f239cebf9930ac5932cc84a7f</td>\n",
       "      <td>2017-01-06 00:00:16</td>\n",
       "    </tr>\n",
       "    <tr>\n",
       "      <th>2</th>\n",
       "      <td>9151ab2a901458f27e36548d4a8dc011</td>\n",
       "      <td>0</td>\n",
       "      <td>Drama</td>\n",
       "      <td>vod</td>\n",
       "      <td>TV Shows</td>\n",
       "      <td>255</td>\n",
       "      <td>1</td>\n",
       "      <td>1</td>\n",
       "      <td>1af000794c63fa2722e22af609ff572c</td>\n",
       "      <td>2017-01-06 00:00:20</td>\n",
       "    </tr>\n",
       "    <tr>\n",
       "      <th>3</th>\n",
       "      <td>1faf0ce0b98e02e1568702f516f01a78</td>\n",
       "      <td>35</td>\n",
       "      <td>Drama</td>\n",
       "      <td>vod</td>\n",
       "      <td>TV Shows</td>\n",
       "      <td>1</td>\n",
       "      <td>1</td>\n",
       "      <td>1</td>\n",
       "      <td>f053c42e98d50e06532ce8d65afb3ab3</td>\n",
       "      <td>2017-01-06 00:00:20</td>\n",
       "    </tr>\n",
       "    <tr>\n",
       "      <th>4</th>\n",
       "      <td>435d41ae019cb8db785483793859c9a8</td>\n",
       "      <td>35</td>\n",
       "      <td>Anime</td>\n",
       "      <td>vod</td>\n",
       "      <td>TV Shows</td>\n",
       "      <td>1</td>\n",
       "      <td>1</td>\n",
       "      <td>1</td>\n",
       "      <td>2a9d984659afc14f801548dd71ddad0e</td>\n",
       "      <td>2017-01-06 00:00:20</td>\n",
       "    </tr>\n",
       "  </tbody>\n",
       "</table>\n",
       "</div>"
      ],
      "text/plain": [
       "                             UserId  State     Genre Category ProgramType  \\\n",
       "0  dc93d200565e5bf6e6fc55adb1c5ba06     35    Drama      vod    TV Shows    \n",
       "1  12060efd8b68ea562b265d0129a8af1f     35   Horror      vod      Movies    \n",
       "2  9151ab2a901458f27e36548d4a8dc011      0    Drama      vod    TV Shows    \n",
       "3  1faf0ce0b98e02e1568702f516f01a78     35    Drama      vod    TV Shows    \n",
       "4  435d41ae019cb8db785483793859c9a8     35    Anime      vod    TV Shows    \n",
       "\n",
       "   Country  Device  OS                           VideoId            DateTime  \n",
       "0        1       2   1  1f2dc23e0d2415353982cfa38cbaf983 2017-01-06 00:00:04  \n",
       "1        1       1   1  6c95441f239cebf9930ac5932cc84a7f 2017-01-06 00:00:16  \n",
       "2      255       1   1  1af000794c63fa2722e22af609ff572c 2017-01-06 00:00:20  \n",
       "3        1       1   1  f053c42e98d50e06532ce8d65afb3ab3 2017-01-06 00:00:20  \n",
       "4        1       1   1  2a9d984659afc14f801548dd71ddad0e 2017-01-06 00:00:20  "
      ]
     },
     "execution_count": 11,
     "metadata": {},
     "output_type": "execute_result"
    }
   ],
   "source": [
    "VideoDetailsMod.drop(columns={'Date','Minute_Of_Day','Second'},inplace=True)\n",
    "VideoDetailsMod.head()"
   ]
  },
  {
   "cell_type": "markdown",
   "metadata": {},
   "source": [
    "# VideoStarted"
   ]
  },
  {
   "cell_type": "code",
   "execution_count": 12,
   "metadata": {},
   "outputs": [
    {
     "data": {
      "text/html": [
       "<div>\n",
       "<style scoped>\n",
       "    .dataframe tbody tr th:only-of-type {\n",
       "        vertical-align: middle;\n",
       "    }\n",
       "\n",
       "    .dataframe tbody tr th {\n",
       "        vertical-align: top;\n",
       "    }\n",
       "\n",
       "    .dataframe thead th {\n",
       "        text-align: right;\n",
       "    }\n",
       "</style>\n",
       "<table border=\"1\" class=\"dataframe\">\n",
       "  <thead>\n",
       "    <tr style=\"text-align: right;\">\n",
       "      <th></th>\n",
       "      <th>UserId</th>\n",
       "      <th>Date</th>\n",
       "      <th>Minute_Of_Day</th>\n",
       "      <th>Second</th>\n",
       "      <th>State</th>\n",
       "      <th>Genre</th>\n",
       "      <th>Category</th>\n",
       "      <th>ProgramType</th>\n",
       "      <th>Country</th>\n",
       "      <th>Device</th>\n",
       "      <th>OS</th>\n",
       "      <th>VideoId</th>\n",
       "      <th>DateTime</th>\n",
       "    </tr>\n",
       "  </thead>\n",
       "  <tbody>\n",
       "    <tr>\n",
       "      <th>0</th>\n",
       "      <td>0280dfdd112732a3ac12b12dc770b7af</td>\n",
       "      <td>20170106</td>\n",
       "      <td>0</td>\n",
       "      <td>8</td>\n",
       "      <td>35</td>\n",
       "      <td>Romance</td>\n",
       "      <td>vod</td>\n",
       "      <td>Movies</td>\n",
       "      <td>1</td>\n",
       "      <td>1</td>\n",
       "      <td>2</td>\n",
       "      <td>36a27b379622f342ec87f9aafadb8f94</td>\n",
       "      <td>2017-01-06 00:00:08</td>\n",
       "    </tr>\n",
       "    <tr>\n",
       "      <th>1</th>\n",
       "      <td>435d41ae019cb8db785483793859c9a8</td>\n",
       "      <td>20170106</td>\n",
       "      <td>0</td>\n",
       "      <td>28</td>\n",
       "      <td>35</td>\n",
       "      <td>Anime</td>\n",
       "      <td>vod</td>\n",
       "      <td>TV Shows</td>\n",
       "      <td>1</td>\n",
       "      <td>1</td>\n",
       "      <td>1</td>\n",
       "      <td>a4d9b88c7ed63d723c70b358a857719c</td>\n",
       "      <td>2017-01-06 00:00:28</td>\n",
       "    </tr>\n",
       "    <tr>\n",
       "      <th>2</th>\n",
       "      <td>1faf0ce0b98e02e1568702f516f01a78</td>\n",
       "      <td>20170106</td>\n",
       "      <td>0</td>\n",
       "      <td>36</td>\n",
       "      <td>35</td>\n",
       "      <td>Drama</td>\n",
       "      <td>vod</td>\n",
       "      <td>TV Shows</td>\n",
       "      <td>1</td>\n",
       "      <td>1</td>\n",
       "      <td>1</td>\n",
       "      <td>806660cb47633263a24bbc53238a9a53</td>\n",
       "      <td>2017-01-06 00:00:36</td>\n",
       "    </tr>\n",
       "    <tr>\n",
       "      <th>3</th>\n",
       "      <td>3ec691b9d2b5d53ef965fe59b1900b30</td>\n",
       "      <td>20170106</td>\n",
       "      <td>0</td>\n",
       "      <td>48</td>\n",
       "      <td>35</td>\n",
       "      <td>Drama</td>\n",
       "      <td>vod</td>\n",
       "      <td>TV Shows</td>\n",
       "      <td>1</td>\n",
       "      <td>2</td>\n",
       "      <td>2</td>\n",
       "      <td>385114825a85d6878e7a0978f9ba5546</td>\n",
       "      <td>2017-01-06 00:00:48</td>\n",
       "    </tr>\n",
       "    <tr>\n",
       "      <th>4</th>\n",
       "      <td>ff230d487a7139b65f33b54a4cbd2d9e</td>\n",
       "      <td>20170106</td>\n",
       "      <td>0</td>\n",
       "      <td>56</td>\n",
       "      <td>35</td>\n",
       "      <td>Comedy</td>\n",
       "      <td>vod</td>\n",
       "      <td>Movies</td>\n",
       "      <td>1</td>\n",
       "      <td>1</td>\n",
       "      <td>1</td>\n",
       "      <td>368a480ec0ae105aee8320dd93483e39</td>\n",
       "      <td>2017-01-06 00:00:56</td>\n",
       "    </tr>\n",
       "  </tbody>\n",
       "</table>\n",
       "</div>"
      ],
      "text/plain": [
       "                             UserId      Date  Minute_Of_Day  Second  State  \\\n",
       "0  0280dfdd112732a3ac12b12dc770b7af  20170106              0       8     35   \n",
       "1  435d41ae019cb8db785483793859c9a8  20170106              0      28     35   \n",
       "2  1faf0ce0b98e02e1568702f516f01a78  20170106              0      36     35   \n",
       "3  3ec691b9d2b5d53ef965fe59b1900b30  20170106              0      48     35   \n",
       "4  ff230d487a7139b65f33b54a4cbd2d9e  20170106              0      56     35   \n",
       "\n",
       "       Genre Category ProgramType  Country  Device  OS  \\\n",
       "0   Romance      vod       Movies        1       1   2   \n",
       "1     Anime      vod     TV Shows        1       1   1   \n",
       "2     Drama      vod     TV Shows        1       1   1   \n",
       "3     Drama      vod     TV Shows        1       2   2   \n",
       "4    Comedy      vod       Movies        1       1   1   \n",
       "\n",
       "                            VideoId            DateTime  \n",
       "0  36a27b379622f342ec87f9aafadb8f94 2017-01-06 00:00:08  \n",
       "1  a4d9b88c7ed63d723c70b358a857719c 2017-01-06 00:00:28  \n",
       "2  806660cb47633263a24bbc53238a9a53 2017-01-06 00:00:36  \n",
       "3  385114825a85d6878e7a0978f9ba5546 2017-01-06 00:00:48  \n",
       "4  368a480ec0ae105aee8320dd93483e39 2017-01-06 00:00:56  "
      ]
     },
     "execution_count": 12,
     "metadata": {},
     "output_type": "execute_result"
    }
   ],
   "source": [
    "VideoStartedMod.head()"
   ]
  },
  {
   "cell_type": "code",
   "execution_count": 13,
   "metadata": {},
   "outputs": [
    {
     "data": {
      "text/html": [
       "<div>\n",
       "<style scoped>\n",
       "    .dataframe tbody tr th:only-of-type {\n",
       "        vertical-align: middle;\n",
       "    }\n",
       "\n",
       "    .dataframe tbody tr th {\n",
       "        vertical-align: top;\n",
       "    }\n",
       "\n",
       "    .dataframe thead th {\n",
       "        text-align: right;\n",
       "    }\n",
       "</style>\n",
       "<table border=\"1\" class=\"dataframe\">\n",
       "  <thead>\n",
       "    <tr style=\"text-align: right;\">\n",
       "      <th></th>\n",
       "      <th>UserId</th>\n",
       "      <th>State</th>\n",
       "      <th>Genre</th>\n",
       "      <th>Category</th>\n",
       "      <th>ProgramType</th>\n",
       "      <th>Country</th>\n",
       "      <th>Device</th>\n",
       "      <th>OS</th>\n",
       "      <th>VideoId</th>\n",
       "      <th>DateTime</th>\n",
       "    </tr>\n",
       "  </thead>\n",
       "  <tbody>\n",
       "    <tr>\n",
       "      <th>0</th>\n",
       "      <td>0280dfdd112732a3ac12b12dc770b7af</td>\n",
       "      <td>35</td>\n",
       "      <td>Romance</td>\n",
       "      <td>vod</td>\n",
       "      <td>Movies</td>\n",
       "      <td>1</td>\n",
       "      <td>1</td>\n",
       "      <td>2</td>\n",
       "      <td>36a27b379622f342ec87f9aafadb8f94</td>\n",
       "      <td>2017-01-06 00:00:08</td>\n",
       "    </tr>\n",
       "    <tr>\n",
       "      <th>1</th>\n",
       "      <td>435d41ae019cb8db785483793859c9a8</td>\n",
       "      <td>35</td>\n",
       "      <td>Anime</td>\n",
       "      <td>vod</td>\n",
       "      <td>TV Shows</td>\n",
       "      <td>1</td>\n",
       "      <td>1</td>\n",
       "      <td>1</td>\n",
       "      <td>a4d9b88c7ed63d723c70b358a857719c</td>\n",
       "      <td>2017-01-06 00:00:28</td>\n",
       "    </tr>\n",
       "    <tr>\n",
       "      <th>2</th>\n",
       "      <td>1faf0ce0b98e02e1568702f516f01a78</td>\n",
       "      <td>35</td>\n",
       "      <td>Drama</td>\n",
       "      <td>vod</td>\n",
       "      <td>TV Shows</td>\n",
       "      <td>1</td>\n",
       "      <td>1</td>\n",
       "      <td>1</td>\n",
       "      <td>806660cb47633263a24bbc53238a9a53</td>\n",
       "      <td>2017-01-06 00:00:36</td>\n",
       "    </tr>\n",
       "    <tr>\n",
       "      <th>3</th>\n",
       "      <td>3ec691b9d2b5d53ef965fe59b1900b30</td>\n",
       "      <td>35</td>\n",
       "      <td>Drama</td>\n",
       "      <td>vod</td>\n",
       "      <td>TV Shows</td>\n",
       "      <td>1</td>\n",
       "      <td>2</td>\n",
       "      <td>2</td>\n",
       "      <td>385114825a85d6878e7a0978f9ba5546</td>\n",
       "      <td>2017-01-06 00:00:48</td>\n",
       "    </tr>\n",
       "    <tr>\n",
       "      <th>4</th>\n",
       "      <td>ff230d487a7139b65f33b54a4cbd2d9e</td>\n",
       "      <td>35</td>\n",
       "      <td>Comedy</td>\n",
       "      <td>vod</td>\n",
       "      <td>Movies</td>\n",
       "      <td>1</td>\n",
       "      <td>1</td>\n",
       "      <td>1</td>\n",
       "      <td>368a480ec0ae105aee8320dd93483e39</td>\n",
       "      <td>2017-01-06 00:00:56</td>\n",
       "    </tr>\n",
       "  </tbody>\n",
       "</table>\n",
       "</div>"
      ],
      "text/plain": [
       "                             UserId  State      Genre Category ProgramType  \\\n",
       "0  0280dfdd112732a3ac12b12dc770b7af     35   Romance      vod       Movies   \n",
       "1  435d41ae019cb8db785483793859c9a8     35     Anime      vod     TV Shows   \n",
       "2  1faf0ce0b98e02e1568702f516f01a78     35     Drama      vod     TV Shows   \n",
       "3  3ec691b9d2b5d53ef965fe59b1900b30     35     Drama      vod     TV Shows   \n",
       "4  ff230d487a7139b65f33b54a4cbd2d9e     35    Comedy      vod       Movies   \n",
       "\n",
       "   Country  Device  OS                           VideoId            DateTime  \n",
       "0        1       1   2  36a27b379622f342ec87f9aafadb8f94 2017-01-06 00:00:08  \n",
       "1        1       1   1  a4d9b88c7ed63d723c70b358a857719c 2017-01-06 00:00:28  \n",
       "2        1       1   1  806660cb47633263a24bbc53238a9a53 2017-01-06 00:00:36  \n",
       "3        1       2   2  385114825a85d6878e7a0978f9ba5546 2017-01-06 00:00:48  \n",
       "4        1       1   1  368a480ec0ae105aee8320dd93483e39 2017-01-06 00:00:56  "
      ]
     },
     "execution_count": 13,
     "metadata": {},
     "output_type": "execute_result"
    }
   ],
   "source": [
    "VideoStartedMod.drop(columns={'Date','Minute_Of_Day','Second'},inplace=True)\n",
    "VideoStartedMod.head()"
   ]
  },
  {
   "cell_type": "markdown",
   "metadata": {},
   "source": [
    "# UTMVisited"
   ]
  },
  {
   "cell_type": "code",
   "execution_count": 14,
   "metadata": {},
   "outputs": [
    {
     "data": {
      "text/html": [
       "<div>\n",
       "<style scoped>\n",
       "    .dataframe tbody tr th:only-of-type {\n",
       "        vertical-align: middle;\n",
       "    }\n",
       "\n",
       "    .dataframe tbody tr th {\n",
       "        vertical-align: top;\n",
       "    }\n",
       "\n",
       "    .dataframe thead th {\n",
       "        text-align: right;\n",
       "    }\n",
       "</style>\n",
       "<table border=\"1\" class=\"dataframe\">\n",
       "  <thead>\n",
       "    <tr style=\"text-align: right;\">\n",
       "      <th></th>\n",
       "      <th>UserId</th>\n",
       "      <th>Date</th>\n",
       "      <th>Minute_Of_Day</th>\n",
       "      <th>Second</th>\n",
       "      <th>State</th>\n",
       "      <th>Country</th>\n",
       "      <th>Device</th>\n",
       "      <th>OS</th>\n",
       "      <th>DateTime</th>\n",
       "    </tr>\n",
       "  </thead>\n",
       "  <tbody>\n",
       "    <tr>\n",
       "      <th>0</th>\n",
       "      <td>66d4abf4f3b733c27591b3f47c85eff7</td>\n",
       "      <td>20170106</td>\n",
       "      <td>0</td>\n",
       "      <td>52</td>\n",
       "      <td>37</td>\n",
       "      <td>1</td>\n",
       "      <td>1</td>\n",
       "      <td>1</td>\n",
       "      <td>2017-01-06 00:00:52</td>\n",
       "    </tr>\n",
       "    <tr>\n",
       "      <th>1</th>\n",
       "      <td>1a40d7e5b34131b097fac80cf982241b</td>\n",
       "      <td>20170106</td>\n",
       "      <td>0</td>\n",
       "      <td>56</td>\n",
       "      <td>40</td>\n",
       "      <td>1</td>\n",
       "      <td>1</td>\n",
       "      <td>1</td>\n",
       "      <td>2017-01-06 00:00:56</td>\n",
       "    </tr>\n",
       "    <tr>\n",
       "      <th>2</th>\n",
       "      <td>b7b3c1ce773a13b52d39429e305ea615</td>\n",
       "      <td>20170106</td>\n",
       "      <td>1</td>\n",
       "      <td>16</td>\n",
       "      <td>35</td>\n",
       "      <td>1</td>\n",
       "      <td>1</td>\n",
       "      <td>1</td>\n",
       "      <td>2017-01-06 00:01:16</td>\n",
       "    </tr>\n",
       "    <tr>\n",
       "      <th>3</th>\n",
       "      <td>3f486a89433a02b96ab13b16c82e39fd</td>\n",
       "      <td>20170106</td>\n",
       "      <td>1</td>\n",
       "      <td>32</td>\n",
       "      <td>35</td>\n",
       "      <td>1</td>\n",
       "      <td>1</td>\n",
       "      <td>1</td>\n",
       "      <td>2017-01-06 00:01:32</td>\n",
       "    </tr>\n",
       "    <tr>\n",
       "      <th>4</th>\n",
       "      <td>9ff982b29d78cefc8eb5a3ffb7fd2a5d</td>\n",
       "      <td>20170106</td>\n",
       "      <td>1</td>\n",
       "      <td>32</td>\n",
       "      <td>38</td>\n",
       "      <td>1</td>\n",
       "      <td>1</td>\n",
       "      <td>1</td>\n",
       "      <td>2017-01-06 00:01:32</td>\n",
       "    </tr>\n",
       "  </tbody>\n",
       "</table>\n",
       "</div>"
      ],
      "text/plain": [
       "                             UserId      Date  Minute_Of_Day  Second  State  \\\n",
       "0  66d4abf4f3b733c27591b3f47c85eff7  20170106              0      52     37   \n",
       "1  1a40d7e5b34131b097fac80cf982241b  20170106              0      56     40   \n",
       "2  b7b3c1ce773a13b52d39429e305ea615  20170106              1      16     35   \n",
       "3  3f486a89433a02b96ab13b16c82e39fd  20170106              1      32     35   \n",
       "4  9ff982b29d78cefc8eb5a3ffb7fd2a5d  20170106              1      32     38   \n",
       "\n",
       "   Country  Device  OS            DateTime  \n",
       "0        1       1   1 2017-01-06 00:00:52  \n",
       "1        1       1   1 2017-01-06 00:00:56  \n",
       "2        1       1   1 2017-01-06 00:01:16  \n",
       "3        1       1   1 2017-01-06 00:01:32  \n",
       "4        1       1   1 2017-01-06 00:01:32  "
      ]
     },
     "execution_count": 14,
     "metadata": {},
     "output_type": "execute_result"
    }
   ],
   "source": [
    "UTMVisitedMod.head()"
   ]
  },
  {
   "cell_type": "code",
   "execution_count": 15,
   "metadata": {},
   "outputs": [
    {
     "data": {
      "text/html": [
       "<div>\n",
       "<style scoped>\n",
       "    .dataframe tbody tr th:only-of-type {\n",
       "        vertical-align: middle;\n",
       "    }\n",
       "\n",
       "    .dataframe tbody tr th {\n",
       "        vertical-align: top;\n",
       "    }\n",
       "\n",
       "    .dataframe thead th {\n",
       "        text-align: right;\n",
       "    }\n",
       "</style>\n",
       "<table border=\"1\" class=\"dataframe\">\n",
       "  <thead>\n",
       "    <tr style=\"text-align: right;\">\n",
       "      <th></th>\n",
       "      <th>UserId</th>\n",
       "      <th>State</th>\n",
       "      <th>Country</th>\n",
       "      <th>Device</th>\n",
       "      <th>OS</th>\n",
       "      <th>DateTime</th>\n",
       "    </tr>\n",
       "  </thead>\n",
       "  <tbody>\n",
       "    <tr>\n",
       "      <th>0</th>\n",
       "      <td>66d4abf4f3b733c27591b3f47c85eff7</td>\n",
       "      <td>37</td>\n",
       "      <td>1</td>\n",
       "      <td>1</td>\n",
       "      <td>1</td>\n",
       "      <td>2017-01-06 00:00:52</td>\n",
       "    </tr>\n",
       "    <tr>\n",
       "      <th>1</th>\n",
       "      <td>1a40d7e5b34131b097fac80cf982241b</td>\n",
       "      <td>40</td>\n",
       "      <td>1</td>\n",
       "      <td>1</td>\n",
       "      <td>1</td>\n",
       "      <td>2017-01-06 00:00:56</td>\n",
       "    </tr>\n",
       "    <tr>\n",
       "      <th>2</th>\n",
       "      <td>b7b3c1ce773a13b52d39429e305ea615</td>\n",
       "      <td>35</td>\n",
       "      <td>1</td>\n",
       "      <td>1</td>\n",
       "      <td>1</td>\n",
       "      <td>2017-01-06 00:01:16</td>\n",
       "    </tr>\n",
       "    <tr>\n",
       "      <th>3</th>\n",
       "      <td>3f486a89433a02b96ab13b16c82e39fd</td>\n",
       "      <td>35</td>\n",
       "      <td>1</td>\n",
       "      <td>1</td>\n",
       "      <td>1</td>\n",
       "      <td>2017-01-06 00:01:32</td>\n",
       "    </tr>\n",
       "    <tr>\n",
       "      <th>4</th>\n",
       "      <td>9ff982b29d78cefc8eb5a3ffb7fd2a5d</td>\n",
       "      <td>38</td>\n",
       "      <td>1</td>\n",
       "      <td>1</td>\n",
       "      <td>1</td>\n",
       "      <td>2017-01-06 00:01:32</td>\n",
       "    </tr>\n",
       "  </tbody>\n",
       "</table>\n",
       "</div>"
      ],
      "text/plain": [
       "                             UserId  State  Country  Device  OS  \\\n",
       "0  66d4abf4f3b733c27591b3f47c85eff7     37        1       1   1   \n",
       "1  1a40d7e5b34131b097fac80cf982241b     40        1       1   1   \n",
       "2  b7b3c1ce773a13b52d39429e305ea615     35        1       1   1   \n",
       "3  3f486a89433a02b96ab13b16c82e39fd     35        1       1   1   \n",
       "4  9ff982b29d78cefc8eb5a3ffb7fd2a5d     38        1       1   1   \n",
       "\n",
       "             DateTime  \n",
       "0 2017-01-06 00:00:52  \n",
       "1 2017-01-06 00:00:56  \n",
       "2 2017-01-06 00:01:16  \n",
       "3 2017-01-06 00:01:32  \n",
       "4 2017-01-06 00:01:32  "
      ]
     },
     "execution_count": 15,
     "metadata": {},
     "output_type": "execute_result"
    }
   ],
   "source": [
    "UTMVisitedMod.drop(columns={'Date','Minute_Of_Day','Second'},inplace=True)\n",
    "UTMVisitedMod.head()"
   ]
  },
  {
   "cell_type": "markdown",
   "metadata": {},
   "source": [
    "# AppUninstalled"
   ]
  },
  {
   "cell_type": "code",
   "execution_count": 16,
   "metadata": {},
   "outputs": [
    {
     "data": {
      "text/html": [
       "<div>\n",
       "<style scoped>\n",
       "    .dataframe tbody tr th:only-of-type {\n",
       "        vertical-align: middle;\n",
       "    }\n",
       "\n",
       "    .dataframe tbody tr th {\n",
       "        vertical-align: top;\n",
       "    }\n",
       "\n",
       "    .dataframe thead th {\n",
       "        text-align: right;\n",
       "    }\n",
       "</style>\n",
       "<table border=\"1\" class=\"dataframe\">\n",
       "  <thead>\n",
       "    <tr style=\"text-align: right;\">\n",
       "      <th></th>\n",
       "      <th>UserId</th>\n",
       "      <th>Date</th>\n",
       "      <th>Minute_Of_Day</th>\n",
       "      <th>Second</th>\n",
       "      <th>State</th>\n",
       "      <th>Country</th>\n",
       "      <th>Device</th>\n",
       "      <th>OS</th>\n",
       "      <th>DateTime</th>\n",
       "    </tr>\n",
       "  </thead>\n",
       "  <tbody>\n",
       "    <tr>\n",
       "      <th>0</th>\n",
       "      <td>0d5f4cc176a4e1c648a9b9b5dbe21d69</td>\n",
       "      <td>20170106</td>\n",
       "      <td>0</td>\n",
       "      <td>0</td>\n",
       "      <td>47</td>\n",
       "      <td>1</td>\n",
       "      <td>1</td>\n",
       "      <td>1</td>\n",
       "      <td>2017-01-06 00:00:00</td>\n",
       "    </tr>\n",
       "    <tr>\n",
       "      <th>1</th>\n",
       "      <td>807018f66aba113be576eb8afa4ea4b6</td>\n",
       "      <td>20170106</td>\n",
       "      <td>0</td>\n",
       "      <td>0</td>\n",
       "      <td>6</td>\n",
       "      <td>1</td>\n",
       "      <td>1</td>\n",
       "      <td>1</td>\n",
       "      <td>2017-01-06 00:00:00</td>\n",
       "    </tr>\n",
       "    <tr>\n",
       "      <th>2</th>\n",
       "      <td>763e66e04918d8b8a7e69a778f5a742a</td>\n",
       "      <td>20170106</td>\n",
       "      <td>1</td>\n",
       "      <td>0</td>\n",
       "      <td>41</td>\n",
       "      <td>1</td>\n",
       "      <td>1</td>\n",
       "      <td>1</td>\n",
       "      <td>2017-01-06 00:01:00</td>\n",
       "    </tr>\n",
       "    <tr>\n",
       "      <th>3</th>\n",
       "      <td>4ee1ed456fa04fc42168a9787b54b549</td>\n",
       "      <td>20170106</td>\n",
       "      <td>1</td>\n",
       "      <td>0</td>\n",
       "      <td>37</td>\n",
       "      <td>1</td>\n",
       "      <td>1</td>\n",
       "      <td>1</td>\n",
       "      <td>2017-01-06 00:01:00</td>\n",
       "    </tr>\n",
       "    <tr>\n",
       "      <th>4</th>\n",
       "      <td>253e758a5557f9de890e814d901f6906</td>\n",
       "      <td>20170106</td>\n",
       "      <td>6</td>\n",
       "      <td>0</td>\n",
       "      <td>46</td>\n",
       "      <td>40</td>\n",
       "      <td>1</td>\n",
       "      <td>1</td>\n",
       "      <td>2017-01-06 00:06:00</td>\n",
       "    </tr>\n",
       "  </tbody>\n",
       "</table>\n",
       "</div>"
      ],
      "text/plain": [
       "                             UserId      Date  Minute_Of_Day  Second  State  \\\n",
       "0  0d5f4cc176a4e1c648a9b9b5dbe21d69  20170106              0       0     47   \n",
       "1  807018f66aba113be576eb8afa4ea4b6  20170106              0       0      6   \n",
       "2  763e66e04918d8b8a7e69a778f5a742a  20170106              1       0     41   \n",
       "3  4ee1ed456fa04fc42168a9787b54b549  20170106              1       0     37   \n",
       "4  253e758a5557f9de890e814d901f6906  20170106              6       0     46   \n",
       "\n",
       "   Country  Device  OS            DateTime  \n",
       "0        1       1   1 2017-01-06 00:00:00  \n",
       "1        1       1   1 2017-01-06 00:00:00  \n",
       "2        1       1   1 2017-01-06 00:01:00  \n",
       "3        1       1   1 2017-01-06 00:01:00  \n",
       "4       40       1   1 2017-01-06 00:06:00  "
      ]
     },
     "execution_count": 16,
     "metadata": {},
     "output_type": "execute_result"
    }
   ],
   "source": [
    "AppUninstalledMod.head()"
   ]
  },
  {
   "cell_type": "code",
   "execution_count": 17,
   "metadata": {},
   "outputs": [
    {
     "data": {
      "text/html": [
       "<div>\n",
       "<style scoped>\n",
       "    .dataframe tbody tr th:only-of-type {\n",
       "        vertical-align: middle;\n",
       "    }\n",
       "\n",
       "    .dataframe tbody tr th {\n",
       "        vertical-align: top;\n",
       "    }\n",
       "\n",
       "    .dataframe thead th {\n",
       "        text-align: right;\n",
       "    }\n",
       "</style>\n",
       "<table border=\"1\" class=\"dataframe\">\n",
       "  <thead>\n",
       "    <tr style=\"text-align: right;\">\n",
       "      <th></th>\n",
       "      <th>UserId</th>\n",
       "      <th>State</th>\n",
       "      <th>Country</th>\n",
       "      <th>Device</th>\n",
       "      <th>OS</th>\n",
       "      <th>DateTime</th>\n",
       "    </tr>\n",
       "  </thead>\n",
       "  <tbody>\n",
       "    <tr>\n",
       "      <th>0</th>\n",
       "      <td>0d5f4cc176a4e1c648a9b9b5dbe21d69</td>\n",
       "      <td>47</td>\n",
       "      <td>1</td>\n",
       "      <td>1</td>\n",
       "      <td>1</td>\n",
       "      <td>2017-01-06 00:00:00</td>\n",
       "    </tr>\n",
       "    <tr>\n",
       "      <th>1</th>\n",
       "      <td>807018f66aba113be576eb8afa4ea4b6</td>\n",
       "      <td>6</td>\n",
       "      <td>1</td>\n",
       "      <td>1</td>\n",
       "      <td>1</td>\n",
       "      <td>2017-01-06 00:00:00</td>\n",
       "    </tr>\n",
       "    <tr>\n",
       "      <th>2</th>\n",
       "      <td>763e66e04918d8b8a7e69a778f5a742a</td>\n",
       "      <td>41</td>\n",
       "      <td>1</td>\n",
       "      <td>1</td>\n",
       "      <td>1</td>\n",
       "      <td>2017-01-06 00:01:00</td>\n",
       "    </tr>\n",
       "    <tr>\n",
       "      <th>3</th>\n",
       "      <td>4ee1ed456fa04fc42168a9787b54b549</td>\n",
       "      <td>37</td>\n",
       "      <td>1</td>\n",
       "      <td>1</td>\n",
       "      <td>1</td>\n",
       "      <td>2017-01-06 00:01:00</td>\n",
       "    </tr>\n",
       "    <tr>\n",
       "      <th>4</th>\n",
       "      <td>253e758a5557f9de890e814d901f6906</td>\n",
       "      <td>46</td>\n",
       "      <td>40</td>\n",
       "      <td>1</td>\n",
       "      <td>1</td>\n",
       "      <td>2017-01-06 00:06:00</td>\n",
       "    </tr>\n",
       "  </tbody>\n",
       "</table>\n",
       "</div>"
      ],
      "text/plain": [
       "                             UserId  State  Country  Device  OS  \\\n",
       "0  0d5f4cc176a4e1c648a9b9b5dbe21d69     47        1       1   1   \n",
       "1  807018f66aba113be576eb8afa4ea4b6      6        1       1   1   \n",
       "2  763e66e04918d8b8a7e69a778f5a742a     41        1       1   1   \n",
       "3  4ee1ed456fa04fc42168a9787b54b549     37        1       1   1   \n",
       "4  253e758a5557f9de890e814d901f6906     46       40       1   1   \n",
       "\n",
       "             DateTime  \n",
       "0 2017-01-06 00:00:00  \n",
       "1 2017-01-06 00:00:00  \n",
       "2 2017-01-06 00:01:00  \n",
       "3 2017-01-06 00:01:00  \n",
       "4 2017-01-06 00:06:00  "
      ]
     },
     "execution_count": 17,
     "metadata": {},
     "output_type": "execute_result"
    }
   ],
   "source": [
    "AppUninstalledMod.drop(columns={'Date','Minute_Of_Day','Second'},inplace=True)\n",
    "AppUninstalledMod.head()"
   ]
  },
  {
   "cell_type": "markdown",
   "metadata": {},
   "source": [
    "# Modified Datasets"
   ]
  },
  {
   "cell_type": "code",
   "execution_count": 18,
   "metadata": {},
   "outputs": [],
   "source": [
    "AppLaunchedMod.to_csv(path_or_buf='AppLaunchedMod.csv',sep=',',index=False)\n",
    "VideoDetailsMod.to_csv(path_or_buf='VideoDetailsMod.csv',sep=',',index=False)\n",
    "UTMVisitedMod.to_csv(path_or_buf='UTMVisitedMod.csv',sep=',',index=False)\n",
    "RegistrationMod.to_csv(path_or_buf='RegistrationMod.csv',sep=',',index=False)\n",
    "AppUninstalledMod.to_csv(path_or_buf='AppUninstalledMod.csv',sep=',',index=False)\n",
    "VideoStartedMod.to_csv(path_or_buf='VideoStartedMod.csv',sep=',',index=False)\n"
   ]
  }
 ],
 "metadata": {
  "kernelspec": {
   "display_name": "Python 3",
   "language": "python",
   "name": "python3"
  },
  "language_info": {
   "codemirror_mode": {
    "name": "ipython",
    "version": 3
   },
   "file_extension": ".py",
   "mimetype": "text/x-python",
   "name": "python",
   "nbconvert_exporter": "python",
   "pygments_lexer": "ipython3",
   "version": "3.7.6"
  }
 },
 "nbformat": 4,
 "nbformat_minor": 2
}
