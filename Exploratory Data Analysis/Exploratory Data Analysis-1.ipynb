{
 "cells": [
  {
   "cell_type": "code",
   "execution_count": 1,
   "metadata": {},
   "outputs": [],
   "source": [
    "import numpy as np\n",
    "import pandas as pd\n",
    "import matplotlib.pyplot as plt\n",
    "import seaborn as sns\n",
    "%matplotlib inline\n",
    "import warnings\n",
    "warnings.filterwarnings('ignore')\n",
    "import datetime\n",
    "import time\n",
    "import swifter\n",
    "import math"
   ]
  },
  {
   "cell_type": "markdown",
   "metadata": {},
   "source": [
    "# Data Loading"
   ]
  },
  {
   "cell_type": "code",
   "execution_count": 2,
   "metadata": {},
   "outputs": [],
   "source": [
    "data = pd.read_csv('combined_data_1.csv')"
   ]
  },
  {
   "cell_type": "code",
   "execution_count": 3,
   "metadata": {},
   "outputs": [
    {
     "data": {
      "text/html": [
       "<div>\n",
       "<style scoped>\n",
       "    .dataframe tbody tr th:only-of-type {\n",
       "        vertical-align: middle;\n",
       "    }\n",
       "\n",
       "    .dataframe tbody tr th {\n",
       "        vertical-align: top;\n",
       "    }\n",
       "\n",
       "    .dataframe thead th {\n",
       "        text-align: right;\n",
       "    }\n",
       "</style>\n",
       "<table border=\"1\" class=\"dataframe\">\n",
       "  <thead>\n",
       "    <tr style=\"text-align: right;\">\n",
       "      <th></th>\n",
       "      <th>UserId</th>\n",
       "      <th>State</th>\n",
       "      <th>Country</th>\n",
       "      <th>Device</th>\n",
       "      <th>OS</th>\n",
       "      <th>DateTime</th>\n",
       "      <th>Event</th>\n",
       "    </tr>\n",
       "  </thead>\n",
       "  <tbody>\n",
       "    <tr>\n",
       "      <th>0</th>\n",
       "      <td>0000146e97c32d369268e5ba5f4b907c</td>\n",
       "      <td>36</td>\n",
       "      <td>1</td>\n",
       "      <td>1</td>\n",
       "      <td>1</td>\n",
       "      <td>2017-02-21 10:36:36</td>\n",
       "      <td>App Launched</td>\n",
       "    </tr>\n",
       "    <tr>\n",
       "      <th>1</th>\n",
       "      <td>0000146e97c32d369268e5ba5f4b907c</td>\n",
       "      <td>36</td>\n",
       "      <td>1</td>\n",
       "      <td>1</td>\n",
       "      <td>1</td>\n",
       "      <td>2017-02-21 10:36:36</td>\n",
       "      <td>Registration</td>\n",
       "    </tr>\n",
       "    <tr>\n",
       "      <th>2</th>\n",
       "      <td>0000146e97c32d369268e5ba5f4b907c</td>\n",
       "      <td>36</td>\n",
       "      <td>1</td>\n",
       "      <td>1</td>\n",
       "      <td>1</td>\n",
       "      <td>2017-02-21 12:16:20</td>\n",
       "      <td>App Launched</td>\n",
       "    </tr>\n",
       "    <tr>\n",
       "      <th>3</th>\n",
       "      <td>0000146e97c32d369268e5ba5f4b907c</td>\n",
       "      <td>36</td>\n",
       "      <td>1</td>\n",
       "      <td>1</td>\n",
       "      <td>1</td>\n",
       "      <td>2017-02-21 18:16:28</td>\n",
       "      <td>App Launched</td>\n",
       "    </tr>\n",
       "    <tr>\n",
       "      <th>4</th>\n",
       "      <td>0000146e97c32d369268e5ba5f4b907c</td>\n",
       "      <td>36</td>\n",
       "      <td>1</td>\n",
       "      <td>1</td>\n",
       "      <td>1</td>\n",
       "      <td>2017-02-21 18:16:28</td>\n",
       "      <td>UTM Visited</td>\n",
       "    </tr>\n",
       "  </tbody>\n",
       "</table>\n",
       "</div>"
      ],
      "text/plain": [
       "                             UserId  State  Country  Device  OS  \\\n",
       "0  0000146e97c32d369268e5ba5f4b907c     36        1       1   1   \n",
       "1  0000146e97c32d369268e5ba5f4b907c     36        1       1   1   \n",
       "2  0000146e97c32d369268e5ba5f4b907c     36        1       1   1   \n",
       "3  0000146e97c32d369268e5ba5f4b907c     36        1       1   1   \n",
       "4  0000146e97c32d369268e5ba5f4b907c     36        1       1   1   \n",
       "\n",
       "              DateTime         Event  \n",
       "0  2017-02-21 10:36:36  App Launched  \n",
       "1  2017-02-21 10:36:36  Registration  \n",
       "2  2017-02-21 12:16:20  App Launched  \n",
       "3  2017-02-21 18:16:28  App Launched  \n",
       "4  2017-02-21 18:16:28   UTM Visited  "
      ]
     },
     "execution_count": 3,
     "metadata": {},
     "output_type": "execute_result"
    }
   ],
   "source": [
    "data.head()"
   ]
  },
  {
   "cell_type": "code",
   "execution_count": 4,
   "metadata": {},
   "outputs": [
    {
     "data": {
      "text/plain": [
       "(3868206, 7)"
      ]
     },
     "execution_count": 4,
     "metadata": {},
     "output_type": "execute_result"
    }
   ],
   "source": [
    "data.shape"
   ]
  },
  {
   "cell_type": "code",
   "execution_count": 6,
   "metadata": {},
   "outputs": [
    {
     "data": {
      "text/html": [
       "<div>\n",
       "<style scoped>\n",
       "    .dataframe tbody tr th:only-of-type {\n",
       "        vertical-align: middle;\n",
       "    }\n",
       "\n",
       "    .dataframe tbody tr th {\n",
       "        vertical-align: top;\n",
       "    }\n",
       "\n",
       "    .dataframe thead th {\n",
       "        text-align: right;\n",
       "    }\n",
       "</style>\n",
       "<table border=\"1\" class=\"dataframe\">\n",
       "  <thead>\n",
       "    <tr style=\"text-align: right;\">\n",
       "      <th></th>\n",
       "      <th>UserId</th>\n",
       "      <th>State</th>\n",
       "      <th>Genre</th>\n",
       "      <th>Category</th>\n",
       "      <th>ProgramType</th>\n",
       "      <th>Country</th>\n",
       "      <th>Device</th>\n",
       "      <th>OS</th>\n",
       "      <th>VideoId</th>\n",
       "      <th>DateTime</th>\n",
       "      <th>Event</th>\n",
       "    </tr>\n",
       "  </thead>\n",
       "  <tbody>\n",
       "    <tr>\n",
       "      <th>0</th>\n",
       "      <td>0280dfdd112732a3ac12b12dc770b7af</td>\n",
       "      <td>35</td>\n",
       "      <td>Romance</td>\n",
       "      <td>vod</td>\n",
       "      <td>Movies</td>\n",
       "      <td>1</td>\n",
       "      <td>1</td>\n",
       "      <td>2</td>\n",
       "      <td>36a27b379622f342ec87f9aafadb8f94</td>\n",
       "      <td>2017-01-06 00:00:08</td>\n",
       "      <td>Video Started</td>\n",
       "    </tr>\n",
       "    <tr>\n",
       "      <th>1</th>\n",
       "      <td>435d41ae019cb8db785483793859c9a8</td>\n",
       "      <td>35</td>\n",
       "      <td>Anime</td>\n",
       "      <td>vod</td>\n",
       "      <td>TV Shows</td>\n",
       "      <td>1</td>\n",
       "      <td>1</td>\n",
       "      <td>1</td>\n",
       "      <td>a4d9b88c7ed63d723c70b358a857719c</td>\n",
       "      <td>2017-01-06 00:00:28</td>\n",
       "      <td>Video Started</td>\n",
       "    </tr>\n",
       "    <tr>\n",
       "      <th>2</th>\n",
       "      <td>1faf0ce0b98e02e1568702f516f01a78</td>\n",
       "      <td>35</td>\n",
       "      <td>Drama</td>\n",
       "      <td>vod</td>\n",
       "      <td>TV Shows</td>\n",
       "      <td>1</td>\n",
       "      <td>1</td>\n",
       "      <td>1</td>\n",
       "      <td>806660cb47633263a24bbc53238a9a53</td>\n",
       "      <td>2017-01-06 00:00:36</td>\n",
       "      <td>Video Started</td>\n",
       "    </tr>\n",
       "    <tr>\n",
       "      <th>3</th>\n",
       "      <td>3ec691b9d2b5d53ef965fe59b1900b30</td>\n",
       "      <td>35</td>\n",
       "      <td>Drama</td>\n",
       "      <td>vod</td>\n",
       "      <td>TV Shows</td>\n",
       "      <td>1</td>\n",
       "      <td>2</td>\n",
       "      <td>2</td>\n",
       "      <td>385114825a85d6878e7a0978f9ba5546</td>\n",
       "      <td>2017-01-06 00:00:48</td>\n",
       "      <td>Video Started</td>\n",
       "    </tr>\n",
       "    <tr>\n",
       "      <th>4</th>\n",
       "      <td>ff230d487a7139b65f33b54a4cbd2d9e</td>\n",
       "      <td>35</td>\n",
       "      <td>Comedy</td>\n",
       "      <td>vod</td>\n",
       "      <td>Movies</td>\n",
       "      <td>1</td>\n",
       "      <td>1</td>\n",
       "      <td>1</td>\n",
       "      <td>368a480ec0ae105aee8320dd93483e39</td>\n",
       "      <td>2017-01-06 00:00:56</td>\n",
       "      <td>Video Started</td>\n",
       "    </tr>\n",
       "  </tbody>\n",
       "</table>\n",
       "</div>"
      ],
      "text/plain": [
       "                             UserId  State      Genre Category ProgramType  \\\n",
       "0  0280dfdd112732a3ac12b12dc770b7af     35   Romance      vod       Movies   \n",
       "1  435d41ae019cb8db785483793859c9a8     35     Anime      vod     TV Shows   \n",
       "2  1faf0ce0b98e02e1568702f516f01a78     35     Drama      vod     TV Shows   \n",
       "3  3ec691b9d2b5d53ef965fe59b1900b30     35     Drama      vod     TV Shows   \n",
       "4  ff230d487a7139b65f33b54a4cbd2d9e     35    Comedy      vod       Movies   \n",
       "\n",
       "   Country  Device  OS                           VideoId             DateTime  \\\n",
       "0        1       1   2  36a27b379622f342ec87f9aafadb8f94  2017-01-06 00:00:08   \n",
       "1        1       1   1  a4d9b88c7ed63d723c70b358a857719c  2017-01-06 00:00:28   \n",
       "2        1       1   1  806660cb47633263a24bbc53238a9a53  2017-01-06 00:00:36   \n",
       "3        1       2   2  385114825a85d6878e7a0978f9ba5546  2017-01-06 00:00:48   \n",
       "4        1       1   1  368a480ec0ae105aee8320dd93483e39  2017-01-06 00:00:56   \n",
       "\n",
       "           Event  \n",
       "0  Video Started  \n",
       "1  Video Started  \n",
       "2  Video Started  \n",
       "3  Video Started  \n",
       "4  Video Started  "
      ]
     },
     "execution_count": 6,
     "metadata": {},
     "output_type": "execute_result"
    }
   ],
   "source": [
    "VideoStarted = pd.read_csv('./data_modded/VideoStartedMod.csv',sep=',')\n",
    "VideoStarted['Event'] = \"Video Started\""
   ]
  },
  {
   "cell_type": "code",
   "execution_count": 8,
   "metadata": {},
   "outputs": [
    {
     "data": {
      "text/html": [
       "<div>\n",
       "<style scoped>\n",
       "    .dataframe tbody tr th:only-of-type {\n",
       "        vertical-align: middle;\n",
       "    }\n",
       "\n",
       "    .dataframe tbody tr th {\n",
       "        vertical-align: top;\n",
       "    }\n",
       "\n",
       "    .dataframe thead th {\n",
       "        text-align: right;\n",
       "    }\n",
       "</style>\n",
       "<table border=\"1\" class=\"dataframe\">\n",
       "  <thead>\n",
       "    <tr style=\"text-align: right;\">\n",
       "      <th></th>\n",
       "      <th>UserId</th>\n",
       "      <th>State</th>\n",
       "      <th>Country</th>\n",
       "      <th>Device</th>\n",
       "      <th>OS</th>\n",
       "      <th>DateTime</th>\n",
       "      <th>Event</th>\n",
       "    </tr>\n",
       "  </thead>\n",
       "  <tbody>\n",
       "    <tr>\n",
       "      <th>0</th>\n",
       "      <td>0280dfdd112732a3ac12b12dc770b7af</td>\n",
       "      <td>35</td>\n",
       "      <td>1</td>\n",
       "      <td>1</td>\n",
       "      <td>2</td>\n",
       "      <td>2017-01-06 00:00:08</td>\n",
       "      <td>Video Started</td>\n",
       "    </tr>\n",
       "    <tr>\n",
       "      <th>1</th>\n",
       "      <td>435d41ae019cb8db785483793859c9a8</td>\n",
       "      <td>35</td>\n",
       "      <td>1</td>\n",
       "      <td>1</td>\n",
       "      <td>1</td>\n",
       "      <td>2017-01-06 00:00:28</td>\n",
       "      <td>Video Started</td>\n",
       "    </tr>\n",
       "    <tr>\n",
       "      <th>2</th>\n",
       "      <td>1faf0ce0b98e02e1568702f516f01a78</td>\n",
       "      <td>35</td>\n",
       "      <td>1</td>\n",
       "      <td>1</td>\n",
       "      <td>1</td>\n",
       "      <td>2017-01-06 00:00:36</td>\n",
       "      <td>Video Started</td>\n",
       "    </tr>\n",
       "    <tr>\n",
       "      <th>3</th>\n",
       "      <td>3ec691b9d2b5d53ef965fe59b1900b30</td>\n",
       "      <td>35</td>\n",
       "      <td>1</td>\n",
       "      <td>2</td>\n",
       "      <td>2</td>\n",
       "      <td>2017-01-06 00:00:48</td>\n",
       "      <td>Video Started</td>\n",
       "    </tr>\n",
       "    <tr>\n",
       "      <th>4</th>\n",
       "      <td>ff230d487a7139b65f33b54a4cbd2d9e</td>\n",
       "      <td>35</td>\n",
       "      <td>1</td>\n",
       "      <td>1</td>\n",
       "      <td>1</td>\n",
       "      <td>2017-01-06 00:00:56</td>\n",
       "      <td>Video Started</td>\n",
       "    </tr>\n",
       "  </tbody>\n",
       "</table>\n",
       "</div>"
      ],
      "text/plain": [
       "                             UserId  State  Country  Device  OS  \\\n",
       "0  0280dfdd112732a3ac12b12dc770b7af     35        1       1   2   \n",
       "1  435d41ae019cb8db785483793859c9a8     35        1       1   1   \n",
       "2  1faf0ce0b98e02e1568702f516f01a78     35        1       1   1   \n",
       "3  3ec691b9d2b5d53ef965fe59b1900b30     35        1       2   2   \n",
       "4  ff230d487a7139b65f33b54a4cbd2d9e     35        1       1   1   \n",
       "\n",
       "              DateTime          Event  \n",
       "0  2017-01-06 00:00:08  Video Started  \n",
       "1  2017-01-06 00:00:28  Video Started  \n",
       "2  2017-01-06 00:00:36  Video Started  \n",
       "3  2017-01-06 00:00:48  Video Started  \n",
       "4  2017-01-06 00:00:56  Video Started  "
      ]
     },
     "execution_count": 8,
     "metadata": {},
     "output_type": "execute_result"
    }
   ],
   "source": [
    "VideoStarted = VideoStarted[['UserId','State','Country','Device','OS','DateTime','Event']]\n",
    "VideoStarted.head()"
   ]
  },
  {
   "cell_type": "code",
   "execution_count": 9,
   "metadata": {},
   "outputs": [],
   "source": [
    "VideoDetails = pd.read_csv('./data_modded/VideoDetailsMod.csv',sep=',')\n",
    "VideoDetails['Event'] = \"Video Details\""
   ]
  },
  {
   "cell_type": "code",
   "execution_count": 10,
   "metadata": {},
   "outputs": [
    {
     "data": {
      "text/html": [
       "<div>\n",
       "<style scoped>\n",
       "    .dataframe tbody tr th:only-of-type {\n",
       "        vertical-align: middle;\n",
       "    }\n",
       "\n",
       "    .dataframe tbody tr th {\n",
       "        vertical-align: top;\n",
       "    }\n",
       "\n",
       "    .dataframe thead th {\n",
       "        text-align: right;\n",
       "    }\n",
       "</style>\n",
       "<table border=\"1\" class=\"dataframe\">\n",
       "  <thead>\n",
       "    <tr style=\"text-align: right;\">\n",
       "      <th></th>\n",
       "      <th>UserId</th>\n",
       "      <th>State</th>\n",
       "      <th>Country</th>\n",
       "      <th>Device</th>\n",
       "      <th>OS</th>\n",
       "      <th>DateTime</th>\n",
       "      <th>Event</th>\n",
       "    </tr>\n",
       "  </thead>\n",
       "  <tbody>\n",
       "    <tr>\n",
       "      <th>0</th>\n",
       "      <td>dc93d200565e5bf6e6fc55adb1c5ba06</td>\n",
       "      <td>35</td>\n",
       "      <td>1</td>\n",
       "      <td>2</td>\n",
       "      <td>1</td>\n",
       "      <td>2017-01-06 00:00:04</td>\n",
       "      <td>Video Details</td>\n",
       "    </tr>\n",
       "    <tr>\n",
       "      <th>1</th>\n",
       "      <td>12060efd8b68ea562b265d0129a8af1f</td>\n",
       "      <td>35</td>\n",
       "      <td>1</td>\n",
       "      <td>1</td>\n",
       "      <td>1</td>\n",
       "      <td>2017-01-06 00:00:16</td>\n",
       "      <td>Video Details</td>\n",
       "    </tr>\n",
       "    <tr>\n",
       "      <th>2</th>\n",
       "      <td>9151ab2a901458f27e36548d4a8dc011</td>\n",
       "      <td>0</td>\n",
       "      <td>255</td>\n",
       "      <td>1</td>\n",
       "      <td>1</td>\n",
       "      <td>2017-01-06 00:00:20</td>\n",
       "      <td>Video Details</td>\n",
       "    </tr>\n",
       "    <tr>\n",
       "      <th>3</th>\n",
       "      <td>1faf0ce0b98e02e1568702f516f01a78</td>\n",
       "      <td>35</td>\n",
       "      <td>1</td>\n",
       "      <td>1</td>\n",
       "      <td>1</td>\n",
       "      <td>2017-01-06 00:00:20</td>\n",
       "      <td>Video Details</td>\n",
       "    </tr>\n",
       "    <tr>\n",
       "      <th>4</th>\n",
       "      <td>435d41ae019cb8db785483793859c9a8</td>\n",
       "      <td>35</td>\n",
       "      <td>1</td>\n",
       "      <td>1</td>\n",
       "      <td>1</td>\n",
       "      <td>2017-01-06 00:00:20</td>\n",
       "      <td>Video Details</td>\n",
       "    </tr>\n",
       "  </tbody>\n",
       "</table>\n",
       "</div>"
      ],
      "text/plain": [
       "                             UserId  State  Country  Device  OS  \\\n",
       "0  dc93d200565e5bf6e6fc55adb1c5ba06     35        1       2   1   \n",
       "1  12060efd8b68ea562b265d0129a8af1f     35        1       1   1   \n",
       "2  9151ab2a901458f27e36548d4a8dc011      0      255       1   1   \n",
       "3  1faf0ce0b98e02e1568702f516f01a78     35        1       1   1   \n",
       "4  435d41ae019cb8db785483793859c9a8     35        1       1   1   \n",
       "\n",
       "              DateTime          Event  \n",
       "0  2017-01-06 00:00:04  Video Details  \n",
       "1  2017-01-06 00:00:16  Video Details  \n",
       "2  2017-01-06 00:00:20  Video Details  \n",
       "3  2017-01-06 00:00:20  Video Details  \n",
       "4  2017-01-06 00:00:20  Video Details  "
      ]
     },
     "execution_count": 10,
     "metadata": {},
     "output_type": "execute_result"
    }
   ],
   "source": [
    "VideoDetails = VideoDetails[['UserId','State','Country','Device','OS','DateTime','Event']]\n",
    "VideoDetails.head()"
   ]
  },
  {
   "cell_type": "code",
   "execution_count": 11,
   "metadata": {},
   "outputs": [
    {
     "data": {
      "text/plain": [
       "(3868206, 7)"
      ]
     },
     "execution_count": 11,
     "metadata": {},
     "output_type": "execute_result"
    }
   ],
   "source": [
    "data.shape"
   ]
  },
  {
   "cell_type": "code",
   "execution_count": 12,
   "metadata": {},
   "outputs": [
    {
     "data": {
      "text/plain": [
       "(1796525, 7)"
      ]
     },
     "execution_count": 12,
     "metadata": {},
     "output_type": "execute_result"
    }
   ],
   "source": [
    "VideoStarted.shape"
   ]
  },
  {
   "cell_type": "code",
   "execution_count": 13,
   "metadata": {},
   "outputs": [
    {
     "data": {
      "text/plain": [
       "(5664731, 7)"
      ]
     },
     "execution_count": 13,
     "metadata": {},
     "output_type": "execute_result"
    }
   ],
   "source": [
    "data = data.append(VideoStarted,ignore_index=True)\n",
    "data.shape"
   ]
  },
  {
   "cell_type": "code",
   "execution_count": 15,
   "metadata": {},
   "outputs": [
    {
     "data": {
      "text/plain": [
       "(3695451, 7)"
      ]
     },
     "execution_count": 15,
     "metadata": {},
     "output_type": "execute_result"
    }
   ],
   "source": [
    "VideoDetails.shape"
   ]
  },
  {
   "cell_type": "code",
   "execution_count": 14,
   "metadata": {},
   "outputs": [
    {
     "data": {
      "text/plain": [
       "(9360182, 7)"
      ]
     },
     "execution_count": 14,
     "metadata": {},
     "output_type": "execute_result"
    }
   ],
   "source": [
    "data = data.append(VideoDetails,ignore_index=True)\n",
    "data.shape"
   ]
  },
  {
   "cell_type": "code",
   "execution_count": 18,
   "metadata": {},
   "outputs": [],
   "source": [
    "data = data[['UserId','Event','DateTime']]"
   ]
  },
  {
   "cell_type": "code",
   "execution_count": 19,
   "metadata": {},
   "outputs": [
    {
     "data": {
      "text/html": [
       "<div>\n",
       "<style scoped>\n",
       "    .dataframe tbody tr th:only-of-type {\n",
       "        vertical-align: middle;\n",
       "    }\n",
       "\n",
       "    .dataframe tbody tr th {\n",
       "        vertical-align: top;\n",
       "    }\n",
       "\n",
       "    .dataframe thead th {\n",
       "        text-align: right;\n",
       "    }\n",
       "</style>\n",
       "<table border=\"1\" class=\"dataframe\">\n",
       "  <thead>\n",
       "    <tr style=\"text-align: right;\">\n",
       "      <th></th>\n",
       "      <th>UserId</th>\n",
       "      <th>Event</th>\n",
       "      <th>DateTime</th>\n",
       "    </tr>\n",
       "  </thead>\n",
       "  <tbody>\n",
       "    <tr>\n",
       "      <th>0</th>\n",
       "      <td>0000146e97c32d369268e5ba5f4b907c</td>\n",
       "      <td>App Launched</td>\n",
       "      <td>2017-02-21 10:36:36</td>\n",
       "    </tr>\n",
       "    <tr>\n",
       "      <th>1</th>\n",
       "      <td>0000146e97c32d369268e5ba5f4b907c</td>\n",
       "      <td>Registration</td>\n",
       "      <td>2017-02-21 10:36:36</td>\n",
       "    </tr>\n",
       "    <tr>\n",
       "      <th>2</th>\n",
       "      <td>0000146e97c32d369268e5ba5f4b907c</td>\n",
       "      <td>App Launched</td>\n",
       "      <td>2017-02-21 12:16:20</td>\n",
       "    </tr>\n",
       "    <tr>\n",
       "      <th>3</th>\n",
       "      <td>0000146e97c32d369268e5ba5f4b907c</td>\n",
       "      <td>App Launched</td>\n",
       "      <td>2017-02-21 18:16:28</td>\n",
       "    </tr>\n",
       "    <tr>\n",
       "      <th>4</th>\n",
       "      <td>0000146e97c32d369268e5ba5f4b907c</td>\n",
       "      <td>UTM Visited</td>\n",
       "      <td>2017-02-21 18:16:28</td>\n",
       "    </tr>\n",
       "  </tbody>\n",
       "</table>\n",
       "</div>"
      ],
      "text/plain": [
       "                             UserId         Event             DateTime\n",
       "0  0000146e97c32d369268e5ba5f4b907c  App Launched  2017-02-21 10:36:36\n",
       "1  0000146e97c32d369268e5ba5f4b907c  Registration  2017-02-21 10:36:36\n",
       "2  0000146e97c32d369268e5ba5f4b907c  App Launched  2017-02-21 12:16:20\n",
       "3  0000146e97c32d369268e5ba5f4b907c  App Launched  2017-02-21 18:16:28\n",
       "4  0000146e97c32d369268e5ba5f4b907c   UTM Visited  2017-02-21 18:16:28"
      ]
     },
     "execution_count": 19,
     "metadata": {},
     "output_type": "execute_result"
    }
   ],
   "source": [
    "data.sort_values(['UserId','DateTime','Event'],axis=0,inplace=True)"
   ]
  },
  {
   "cell_type": "markdown",
   "metadata": {},
   "source": [
    "# Timeline of every activity of the user"
   ]
  },
  {
   "cell_type": "code",
   "execution_count": 21,
   "metadata": {},
   "outputs": [
    {
     "data": {
      "text/html": [
       "<div>\n",
       "<style scoped>\n",
       "    .dataframe tbody tr th:only-of-type {\n",
       "        vertical-align: middle;\n",
       "    }\n",
       "\n",
       "    .dataframe tbody tr th {\n",
       "        vertical-align: top;\n",
       "    }\n",
       "\n",
       "    .dataframe thead th {\n",
       "        text-align: right;\n",
       "    }\n",
       "</style>\n",
       "<table border=\"1\" class=\"dataframe\">\n",
       "  <thead>\n",
       "    <tr style=\"text-align: right;\">\n",
       "      <th></th>\n",
       "      <th>UserId</th>\n",
       "      <th>Event</th>\n",
       "      <th>DateTime</th>\n",
       "    </tr>\n",
       "  </thead>\n",
       "  <tbody>\n",
       "    <tr>\n",
       "      <th>0</th>\n",
       "      <td>0000146e97c32d369268e5ba5f4b907c</td>\n",
       "      <td>App Launched</td>\n",
       "      <td>2017-02-21 10:36:36</td>\n",
       "    </tr>\n",
       "    <tr>\n",
       "      <th>1</th>\n",
       "      <td>0000146e97c32d369268e5ba5f4b907c</td>\n",
       "      <td>Registration</td>\n",
       "      <td>2017-02-21 10:36:36</td>\n",
       "    </tr>\n",
       "    <tr>\n",
       "      <th>2</th>\n",
       "      <td>0000146e97c32d369268e5ba5f4b907c</td>\n",
       "      <td>App Launched</td>\n",
       "      <td>2017-02-21 12:16:20</td>\n",
       "    </tr>\n",
       "    <tr>\n",
       "      <th>3</th>\n",
       "      <td>0000146e97c32d369268e5ba5f4b907c</td>\n",
       "      <td>App Launched</td>\n",
       "      <td>2017-02-21 18:16:28</td>\n",
       "    </tr>\n",
       "    <tr>\n",
       "      <th>4</th>\n",
       "      <td>0000146e97c32d369268e5ba5f4b907c</td>\n",
       "      <td>UTM Visited</td>\n",
       "      <td>2017-02-21 18:16:28</td>\n",
       "    </tr>\n",
       "    <tr>\n",
       "      <th>5</th>\n",
       "      <td>0000146e97c32d369268e5ba5f4b907c</td>\n",
       "      <td>App Launched</td>\n",
       "      <td>2017-02-21 21:31:40</td>\n",
       "    </tr>\n",
       "    <tr>\n",
       "      <th>6</th>\n",
       "      <td>0000146e97c32d369268e5ba5f4b907c</td>\n",
       "      <td>App Launched</td>\n",
       "      <td>2017-02-22 17:36:48</td>\n",
       "    </tr>\n",
       "    <tr>\n",
       "      <th>7</th>\n",
       "      <td>0000146e97c32d369268e5ba5f4b907c</td>\n",
       "      <td>App Launched</td>\n",
       "      <td>2017-02-22 20:13:20</td>\n",
       "    </tr>\n",
       "    <tr>\n",
       "      <th>8</th>\n",
       "      <td>0000146e97c32d369268e5ba5f4b907c</td>\n",
       "      <td>App Launched</td>\n",
       "      <td>2017-02-23 11:44:24</td>\n",
       "    </tr>\n",
       "    <tr>\n",
       "      <th>6174927</th>\n",
       "      <td>0000146e97c32d369268e5ba5f4b907c</td>\n",
       "      <td>Video Details</td>\n",
       "      <td>2017-02-23 11:46:12</td>\n",
       "    </tr>\n",
       "    <tr>\n",
       "      <th>4075321</th>\n",
       "      <td>0000146e97c32d369268e5ba5f4b907c</td>\n",
       "      <td>Video Started</td>\n",
       "      <td>2017-02-23 11:48:16</td>\n",
       "    </tr>\n",
       "    <tr>\n",
       "      <th>6174947</th>\n",
       "      <td>0000146e97c32d369268e5ba5f4b907c</td>\n",
       "      <td>Video Details</td>\n",
       "      <td>2017-02-23 11:48:40</td>\n",
       "    </tr>\n",
       "    <tr>\n",
       "      <th>9</th>\n",
       "      <td>0000146e97c32d369268e5ba5f4b907c</td>\n",
       "      <td>App Launched</td>\n",
       "      <td>2017-02-23 14:10:56</td>\n",
       "    </tr>\n",
       "    <tr>\n",
       "      <th>6175911</th>\n",
       "      <td>0000146e97c32d369268e5ba5f4b907c</td>\n",
       "      <td>Video Details</td>\n",
       "      <td>2017-02-23 14:12:00</td>\n",
       "    </tr>\n",
       "    <tr>\n",
       "      <th>10</th>\n",
       "      <td>0000146e97c32d369268e5ba5f4b907c</td>\n",
       "      <td>App Launched</td>\n",
       "      <td>2017-02-23 14:14:28</td>\n",
       "    </tr>\n",
       "  </tbody>\n",
       "</table>\n",
       "</div>"
      ],
      "text/plain": [
       "                                   UserId          Event             DateTime\n",
       "0        0000146e97c32d369268e5ba5f4b907c   App Launched  2017-02-21 10:36:36\n",
       "1        0000146e97c32d369268e5ba5f4b907c   Registration  2017-02-21 10:36:36\n",
       "2        0000146e97c32d369268e5ba5f4b907c   App Launched  2017-02-21 12:16:20\n",
       "3        0000146e97c32d369268e5ba5f4b907c   App Launched  2017-02-21 18:16:28\n",
       "4        0000146e97c32d369268e5ba5f4b907c    UTM Visited  2017-02-21 18:16:28\n",
       "5        0000146e97c32d369268e5ba5f4b907c   App Launched  2017-02-21 21:31:40\n",
       "6        0000146e97c32d369268e5ba5f4b907c   App Launched  2017-02-22 17:36:48\n",
       "7        0000146e97c32d369268e5ba5f4b907c   App Launched  2017-02-22 20:13:20\n",
       "8        0000146e97c32d369268e5ba5f4b907c   App Launched  2017-02-23 11:44:24\n",
       "6174927  0000146e97c32d369268e5ba5f4b907c  Video Details  2017-02-23 11:46:12\n",
       "4075321  0000146e97c32d369268e5ba5f4b907c  Video Started  2017-02-23 11:48:16\n",
       "6174947  0000146e97c32d369268e5ba5f4b907c  Video Details  2017-02-23 11:48:40\n",
       "9        0000146e97c32d369268e5ba5f4b907c   App Launched  2017-02-23 14:10:56\n",
       "6175911  0000146e97c32d369268e5ba5f4b907c  Video Details  2017-02-23 14:12:00\n",
       "10       0000146e97c32d369268e5ba5f4b907c   App Launched  2017-02-23 14:14:28"
      ]
     },
     "execution_count": 21,
     "metadata": {},
     "output_type": "execute_result"
    }
   ],
   "source": [
    "data.head(15)"
   ]
  },
  {
   "cell_type": "code",
   "execution_count": 24,
   "metadata": {},
   "outputs": [
    {
     "data": {
      "application/vnd.jupyter.widget-view+json": {
       "model_id": "59c7bf8d702b4bf9bbbae4d2bd5d010b",
       "version_major": 2,
       "version_minor": 0
      },
      "text/plain": [
       "HBox(children=(FloatProgress(value=0.0, description='Pandas Apply', max=9360182.0, style=ProgressStyle(descrip…"
      ]
     },
     "metadata": {},
     "output_type": "display_data"
    },
    {
     "name": "stdout",
     "output_type": "stream",
     "text": [
      "\n"
     ]
    }
   ],
   "source": [
    "data['DateTime'] = data['DateTime'].swifter.apply(lambda x : datetime.datetime.strptime(x, '%Y-%m-%d %H:%M:%S'))"
   ]
  },
  {
   "cell_type": "code",
   "execution_count": 25,
   "metadata": {},
   "outputs": [
    {
     "data": {
      "application/vnd.jupyter.widget-view+json": {
       "model_id": "2bd243fa7d3948d889092faaa9c2f380",
       "version_major": 2,
       "version_minor": 0
      },
      "text/plain": [
       "HBox(children=(FloatProgress(value=0.0, description='Dask Apply', max=16.0, style=ProgressStyle(description_wi…"
      ]
     },
     "metadata": {},
     "output_type": "display_data"
    },
    {
     "name": "stdout",
     "output_type": "stream",
     "text": [
      "\n"
     ]
    }
   ],
   "source": [
    "data['Month'] = data['DateTime'].swifter.apply(lambda x : x.month)"
   ]
  },
  {
   "cell_type": "code",
   "execution_count": 26,
   "metadata": {},
   "outputs": [],
   "source": [
    "chart_data = pd.pivot_table(data,values='UserId',index='Month',columns='Event',aggfunc='count')"
   ]
  },
  {
   "cell_type": "code",
   "execution_count": 27,
   "metadata": {},
   "outputs": [
    {
     "data": {
      "text/html": [
       "<div>\n",
       "<style scoped>\n",
       "    .dataframe tbody tr th:only-of-type {\n",
       "        vertical-align: middle;\n",
       "    }\n",
       "\n",
       "    .dataframe tbody tr th {\n",
       "        vertical-align: top;\n",
       "    }\n",
       "\n",
       "    .dataframe thead th {\n",
       "        text-align: right;\n",
       "    }\n",
       "</style>\n",
       "<table border=\"1\" class=\"dataframe\">\n",
       "  <thead>\n",
       "    <tr style=\"text-align: right;\">\n",
       "      <th>Event</th>\n",
       "      <th>App Launched</th>\n",
       "      <th>App Uninstalled</th>\n",
       "      <th>Registration</th>\n",
       "      <th>UTM Visited</th>\n",
       "      <th>Video Details</th>\n",
       "      <th>Video Started</th>\n",
       "    </tr>\n",
       "    <tr>\n",
       "      <th>Month</th>\n",
       "      <th></th>\n",
       "      <th></th>\n",
       "      <th></th>\n",
       "      <th></th>\n",
       "      <th></th>\n",
       "      <th></th>\n",
       "    </tr>\n",
       "  </thead>\n",
       "  <tbody>\n",
       "    <tr>\n",
       "      <th>1</th>\n",
       "      <td>412029</td>\n",
       "      <td>66762</td>\n",
       "      <td>41094</td>\n",
       "      <td>98052</td>\n",
       "      <td>321307</td>\n",
       "      <td>121451</td>\n",
       "    </tr>\n",
       "    <tr>\n",
       "      <th>2</th>\n",
       "      <td>318173</td>\n",
       "      <td>49160</td>\n",
       "      <td>35123</td>\n",
       "      <td>60636</td>\n",
       "      <td>225945</td>\n",
       "      <td>101902</td>\n",
       "    </tr>\n",
       "    <tr>\n",
       "      <th>3</th>\n",
       "      <td>324575</td>\n",
       "      <td>43252</td>\n",
       "      <td>43240</td>\n",
       "      <td>67629</td>\n",
       "      <td>323375</td>\n",
       "      <td>142241</td>\n",
       "    </tr>\n",
       "    <tr>\n",
       "      <th>4</th>\n",
       "      <td>539782</td>\n",
       "      <td>62648</td>\n",
       "      <td>81397</td>\n",
       "      <td>100321</td>\n",
       "      <td>809816</td>\n",
       "      <td>424618</td>\n",
       "    </tr>\n",
       "    <tr>\n",
       "      <th>5</th>\n",
       "      <td>800423</td>\n",
       "      <td>74124</td>\n",
       "      <td>92048</td>\n",
       "      <td>116383</td>\n",
       "      <td>1463836</td>\n",
       "      <td>708876</td>\n",
       "    </tr>\n",
       "  </tbody>\n",
       "</table>\n",
       "</div>"
      ],
      "text/plain": [
       "Event  App Launched  App Uninstalled  Registration  UTM Visited  \\\n",
       "Month                                                             \n",
       "1            412029            66762         41094        98052   \n",
       "2            318173            49160         35123        60636   \n",
       "3            324575            43252         43240        67629   \n",
       "4            539782            62648         81397       100321   \n",
       "5            800423            74124         92048       116383   \n",
       "\n",
       "Event  Video Details  Video Started  \n",
       "Month                                \n",
       "1             321307         121451  \n",
       "2             225945         101902  \n",
       "3             323375         142241  \n",
       "4             809816         424618  \n",
       "5            1463836         708876  "
      ]
     },
     "execution_count": 27,
     "metadata": {},
     "output_type": "execute_result"
    }
   ],
   "source": [
    "chart_data.head()"
   ]
  },
  {
   "cell_type": "code",
   "execution_count": 28,
   "metadata": {},
   "outputs": [
    {
     "data": {
      "text/plain": [
       "Text(0, 0.5, 'Count of Occurence')"
      ]
     },
     "execution_count": 28,
     "metadata": {},
     "output_type": "execute_result"
    },
    {
     "data": {
      "image/png": "[encoded data removed]",
      "text/plain": [
       "<Figure size 1080x504 with 1 Axes>"
      ]
     },
     "metadata": {
      "needs_background": "light"
     },
     "output_type": "display_data"
    }
   ],
   "source": [
    "fig, ax = plt.subplots(figsize=(15,7))\n",
    "sns.lineplot(data=chart_data)\n",
    "ax.set_title('Event Trend', fontsize=30)\n",
    "ax.set_ylabel('Count of Occurence')"
   ]
  }
 ],
 "metadata": {
  "kernelspec": {
   "display_name": "Python [conda env:Python]",
   "language": "python",
   "name": "conda-env-Python-py"
  },
  "language_info": {
   "codemirror_mode": {
    "name": "ipython",
    "version": 3
   },
   "file_extension": ".py",
   "mimetype": "text/x-python",
   "name": "python",
   "nbconvert_exporter": "python",
   "pygments_lexer": "ipython3",
   "version": "3.7.4"
  }
 },
 "nbformat": 4,
 "nbformat_minor": 4
}
